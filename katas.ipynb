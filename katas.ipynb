{
 "cells": [
  {
   "cell_type": "markdown",
   "id": "0bdfa082-3a9c-4d65-be78-b7d795142f45",
   "metadata": {},
   "source": [
    "# Kata 1 - Sum the Largest Numbers"
   ]
  },
  {
   "cell_type": "code",
   "execution_count": 4,
   "id": "b3a8f913-12e3-4624-a2be-fcfe4bc1da04",
   "metadata": {},
   "outputs": [
    {
     "name": "stdout",
     "output_type": "stream",
     "text": [
      "11\n",
      "5\n",
      "126\n"
     ]
    }
   ],
   "source": [
    "def sumLargestNumbers(number_list):\n",
    "    # Pickout the largest number\n",
    "    largest1 = max(number_list)\n",
    "    \n",
    "    # Determine index of largest number\n",
    "    index = number_list.index(largest1)\n",
    "    \n",
    "    # (Temporarily) remove the largest number from the list using its index\n",
    "    del number_list[index]\n",
    "    \n",
    "    # With the old largest number out of the way, determine the next largest number from the list\n",
    "    largest2 = max(number_list)\n",
    "    \n",
    "    # Return the sum of the largest and second largest numbers on the list\n",
    "    return largest1 + largest2\n",
    "\n",
    "print(sumLargestNumbers([1, 10]))\n",
    "print(sumLargestNumbers([1, 2, 3]))\n",
    "print(sumLargestNumbers([10, 4, 34, 6, 92, 2]))"
   ]
  },
  {
   "cell_type": "markdown",
   "id": "b9ee08d3-7f65-44c1-be41-91dda57ceee9",
   "metadata": {},
   "source": [
    "# Kata 2 - Conditional sums"
   ]
  },
  {
   "cell_type": "code",
   "execution_count": 5,
   "id": "c8dcaa99-7779-4b66-969e-367c77cff83d",
   "metadata": {},
   "outputs": [
    {
     "name": "stdout",
     "output_type": "stream",
     "text": [
      "6\n",
      "9\n",
      "144\n",
      "0\n"
     ]
    }
   ],
   "source": [
    "def conditionalSum(values, condition):\n",
    "    # Initialize sum\n",
    "    sum = 0\n",
    "    \n",
    "    # Condition \"even\"\n",
    "    if condition == 'even':\n",
    "        for i in values:\n",
    "            if i % 2 == 0 :\n",
    "                sum += i\n",
    "    \n",
    "    # Condition \"odd\"\n",
    "    elif condition == 'odd':\n",
    "        for i in values:\n",
    "            if i % 2 == 1:\n",
    "                sum += i\n",
    "    \n",
    "    # Empty lists will return 0\n",
    "    else:\n",
    "        return 0\n",
    "    \n",
    "    # Function returns the final sum value for even or odd numbers accordingly\n",
    "    return sum\n",
    "    \n",
    "\n",
    "print(conditionalSum([1, 2, 3, 4, 5], \"even\"))\n",
    "print(conditionalSum([1, 2, 3, 4, 5], \"odd\"))\n",
    "print(conditionalSum([13, 88, 12, 44, 99], \"even\"))\n",
    "print(conditionalSum([0], \"odd\"))"
   ]
  },
  {
   "cell_type": "markdown",
   "id": "03722207-6745-4956-8df2-f293dd3f2bc9",
   "metadata": {},
   "source": [
    "# Kata 3 - Vowels"
   ]
  },
  {
   "cell_type": "code",
   "execution_count": 6,
   "id": "30c182ec-17d9-4deb-a127-c849bd85d4b3",
   "metadata": {},
   "outputs": [
    {
     "name": "stdout",
     "output_type": "stream",
     "text": [
      "3\n",
      "5\n",
      "5\n"
     ]
    }
   ],
   "source": [
    "def numberOfVowels(data):\n",
    "    # List of vowels    \n",
    "    vowels = ['a', 'A', 'e', 'E', 'i', 'I', 'o', 'O', 'u', 'U']\n",
    "    \n",
    "    # Initial vowel count\n",
    "    vowel_count = 0\n",
    "    \n",
    "    # Use for loop and if statement to count vowels\n",
    "    for letter in data:\n",
    "        if letter in vowels:\n",
    "            vowel_count += 1\n",
    "    \n",
    "    # Return final vowel count for given string\n",
    "    return vowel_count\n",
    "\n",
    "print(numberOfVowels(\"orange\"))\n",
    "print(numberOfVowels(\"lighthouse labs\"))\n",
    "print(numberOfVowels(\"aeiou\"))"
   ]
  },
  {
   "cell_type": "markdown",
   "id": "854721aa-594f-45d9-a3f8-c5abcffc4b0d",
   "metadata": {},
   "source": [
    "# Kata 4 - Instructors Names"
   ]
  },
  {
   "cell_type": "code",
   "execution_count": 7,
   "id": "e84ef180-d848-42f4-b55c-624adc5c19b1",
   "metadata": {},
   "outputs": [
    {
     "name": "stdout",
     "output_type": "stream",
     "text": [
      "{'name': 'Jeremiah', 'course': 'Data'}\n",
      "{'name': 'Domascus', 'course': 'Web'}\n"
     ]
    }
   ],
   "source": [
    "def instructorWithLongestName(instructors):\n",
    "    # List instructor names\n",
    "    names = []\n",
    "    for instructor in instructors:\n",
    "        names.append(instructor['name'])\n",
    "    \n",
    "    # Calculate and collect name lengths\n",
    "    name_length = []    \n",
    "    for name in names:\n",
    "        name_length.append(len(name))\n",
    "    \n",
    "    # Determine longest name (the first one if there are more than one)\n",
    "    for name in names:\n",
    "        if len(name) == max(name_length):\n",
    "            longest_name = name\n",
    "            break\n",
    "    \n",
    "    # Return dictionary object that contains instructor with longest name details\n",
    "    for i in range(len(instructors)):\n",
    "            if instructors[i][\"name\"] == longest_name:\n",
    "                instructor_longest_name_details = (instructors[i])\n",
    "            \n",
    "    return instructor_longest_name_details\n",
    "\n",
    "    \n",
    "print(instructorWithLongestName([\n",
    "  {\"name\": \"Samuel\", \"course\": \"iOS\"},\n",
    "  {\"name\": \"Jeremiah\", \"course\": \"Data\"},\n",
    "  {\"name\": \"Ophilia\", \"course\": \"Web\"},\n",
    "  {\"name\": \"Donald\", \"course\": \"Web\"}\n",
    "]))\n",
    "print(instructorWithLongestName([\n",
    "  {\"name\": \"Matthew\", \"course\": \"Data\"},\n",
    "  {\"name\": \"David\", \"course\": \"iOS\"},\n",
    "  {\"name\": \"Domascus\", \"course\": \"Web\"}\n",
    "]))"
   ]
  },
  {
   "cell_type": "markdown",
   "id": "6aaaaf23-0616-4fd5-9686-27ef161ec1f2",
   "metadata": {},
   "source": [
    "# Kata 5 - Percent Encoded String"
   ]
  },
  {
   "cell_type": "code",
   "execution_count": 8,
   "id": "c53522c7-1a56-4378-9567-229db7ed2844",
   "metadata": {},
   "outputs": [
    {
     "name": "stdout",
     "output_type": "stream",
     "text": [
      "Lighthouse%20Labs\n",
      "Lighthouse%20Labs\n",
      "blue%20is%20greener%20than%20purple%20for%20sure\n"
     ]
    }
   ],
   "source": [
    "def urlEncode(text):\n",
    "    # Convert text into list chars and remove white spaces outside the string\n",
    "    chars = list(text.lstrip().rstrip())\n",
    "    \n",
    "    # Convert the white spaces into '%20'\n",
    "    for i in range(len(chars)):\n",
    "        if chars[i] == ' ':\n",
    "            chars[i] = '%20'\n",
    "\n",
    "    # Join the characters and return the final output - white spaces converted to '%20'\n",
    "    return ''.join(chars)\n",
    "\n",
    "\n",
    "print(urlEncode(\"Lighthouse Labs\"))\n",
    "print(urlEncode(\" Lighthouse Labs  \"))\n",
    "print(urlEncode(\"blue is greener than purple for sure\"))"
   ]
  },
  {
   "cell_type": "markdown",
   "id": "e23f707d-0b2e-4e6b-91c9-b40c5652c021",
   "metadata": {},
   "source": [
    "# Kata 6 - SmartParking"
   ]
  },
  {
   "cell_type": "code",
   "execution_count": 11,
   "id": "b75e2b14-dc84-4407-898a-982e914f265e",
   "metadata": {},
   "outputs": [
    {
     "name": "stdout",
     "output_type": "stream",
     "text": [
      "[4, 0]\n",
      "False\n",
      "[3, 1]\n"
     ]
    }
   ],
   "source": [
    "def whereCanIPark(spots, vehicle):\n",
    "    '''\n",
    "    This function returns the coordinates of an available parking spot for the vehicle,\n",
    "    or returns False if there is no available spot. The function receives a list of lists\n",
    "    representing parking spots, and a string with the type of the vehicle that is looking for a parking spot.\n",
    "    \n",
    "    There are three kinds of possible vehicles: regular cars, small cars, and motorcycles.\n",
    "    \n",
    "        - Regular cars can only park in R spots.\n",
    "        - Small cars can park in R or S spots.\n",
    "        - Motorcycles can park in R, S, or M spots.\n",
    "\n",
    "    In the list of parking spots, spots are written in both lower-case and upper-case. An upper-case letter means that the particular spot is AVAILABLE, while lower-case letters mean that the spot is UNAVAILABLE.\n",
    "\n",
    "    The function will return a list with the coordinates of the spot as an [X, Y] pair.\n",
    "    \n",
    "    There may be multiple available spots for a particular vehicle. It does not matter which spot the function\n",
    "    chooses, as long as the spot is available. And if there are no available spots, it will return false.\n",
    "    \n",
    "    It will however prioritize the parking spot that is of the same time.\n",
    "    (i.e. For motorcycles, it will prioritize and pick the first M spot that it finds. If it can't find one,\n",
    "    it will pick the first S spot, and still if it doesn't, it will look for the first R spot. Otherwise,\n",
    "    it will return False.)\n",
    "    '''\n",
    "    \n",
    "    # Initialize list for coordinates    \n",
    "    coordinates = []\n",
    "    \n",
    "    # For motorcycles\n",
    "    if vehicle == 'motorcycle':    \n",
    "    \n",
    "        for spot in spots:\n",
    "            \n",
    "            # 1st Priority - M spot\n",
    "            if 'M' in spot:\n",
    "                # Fill the [X,Y] coordinates\n",
    "                coordinates.append(spot.index('M'))\n",
    "                coordinates.append(spots.index(spot))\n",
    "                return coordinates\n",
    "            \n",
    "            # 2nd Priority - S spot\n",
    "            if 'S' in spot:\n",
    "                # Fill the [X,Y] coordinates\n",
    "                coordinates.append(spot.index('S'))\n",
    "                coordinates.append(spots.index(spot))\n",
    "                return coordinates\n",
    "             \n",
    "            # 3rd Priority - R spot\n",
    "            if 'R' in spot:\n",
    "                # Fill the [X,Y] coordinates\n",
    "                coordinates.append(spot.index('R'))\n",
    "                coordinates.append(spots.index(spot))\n",
    "                return coordinates\n",
    "    \n",
    "    # For small cars\n",
    "    elif vehicle == 'small':    \n",
    "        \n",
    "        for spot in spots: \n",
    "            \n",
    "            # 1st Priority - S spot\n",
    "            if 'S' in spot:\n",
    "                # Fill the [X,Y] coordinates\n",
    "                coordinates.append(spot.index('S'))\n",
    "                coordinates.append(spots.index(spot))\n",
    "                return coordinates\n",
    "            \n",
    "            # 2nd Priority - R spot\n",
    "            if 'R' in spot:\n",
    "                # Fill the [X,Y] coordinates\n",
    "                coordinates.append(spot.index('R'))\n",
    "                coordinates.append(spots.index(spot))\n",
    "                return coordinates\n",
    "    \n",
    "    #For regular cars\n",
    "    elif vehicle == 'regular':    \n",
    "        \n",
    "        for spot in spots:\n",
    "            \n",
    "            # Picks only R spots\n",
    "            if 'R' in spot:\n",
    "                # Fill the [X,Y] coordinates\n",
    "                coordinates.append(spot.index('R'))\n",
    "                coordinates.append(spots.index(spot))\n",
    "                return coordinates\n",
    "    \n",
    "    return False\n",
    "\n",
    "print(whereCanIPark(\n",
    "  [\n",
    "    # COLUMNS ARE X\n",
    "    # 0    1    2    3    4    5\n",
    "    ['s', 's', 's', 'S', 'R', 'M'], # 0 ROWS ARE Y\n",
    "    ['s', 'M', 's', 'S', 'r', 'M'], # 1\n",
    "    ['s', 'M', 's', 'S', 'r', 'm'], # 2\n",
    "    ['S', 'r', 's', 'm', 'r', 'M'], # 3\n",
    "    ['S', 'r', 's', 'm', 'r', 'M'], # 4\n",
    "    ['S', 'r', 'S', 'M', 'M', 'S']  # 5\n",
    "  ],\n",
    "  'regular'\n",
    "))\n",
    "\n",
    "print(whereCanIPark(\n",
    "  [\n",
    "    ['M', 'M', 'M', 'M'],\n",
    "    ['M', 's', 'M', 'M'],\n",
    "    ['M', 'M', 'M', 'M'],\n",
    "    ['M', 'M', 'r', 'M']\n",
    "  ],\n",
    "  'small'\n",
    "))\n",
    "\n",
    "print(whereCanIPark(\n",
    "  [\n",
    "    ['s', 's', 's', 's', 's', 's'],\n",
    "    ['s', 'm', 's', 'S', 'r', 's'],\n",
    "    ['s', 'm', 's', 'S', 'r', 's'],\n",
    "    ['S', 'r', 's', 'm', 'r', 's'],\n",
    "    ['S', 'r', 's', 'm', 'R', 's'],\n",
    "    ['S', 'r', 'S', 'M', 'm', 'S']\n",
    "  ],\n",
    "  'motorcycle'\n",
    "))"
   ]
  },
  {
   "cell_type": "markdown",
   "id": "2c8b7905-a231-4ae0-83c4-1d2eb8938fef",
   "metadata": {},
   "source": [
    "# Kata 7 - In the Air Tonight"
   ]
  },
  {
   "cell_type": "code",
   "execution_count": 14,
   "id": "afd4ee77-4cd6-4b64-9868-c110f01fc398",
   "metadata": {},
   "outputs": [
    {
     "name": "stdout",
     "output_type": "stream",
     "text": [
      "Polluted\n",
      "Polluted\n",
      "Clean\n"
     ]
    }
   ],
   "source": [
    "def checkAir(samples, threshold):\n",
    "    '''\n",
    "    The checkAir function which will check a collection of air samples. It will take in two arguments.\n",
    "    The first argument is a list of strings, where each string represents a small air sample\n",
    "    that is either clean or dirty. The second argument is a number representing the highest\n",
    "    acceptable amount of dirty samples. For example, a threshold of 0.4 means that there must be\n",
    "    less than 40% of total samples classified as dirty for our air to be considered clean.\n",
    "    The  function will return \"Polluted\" if there are too many dirty air samples, or\n",
    "    \"Clean\" if the proportion of dirty samples is below the threshold.\n",
    "    '''\n",
    "    \n",
    "    # Count instances of \"dirty\" from the list\n",
    "    dirty_count = samples.count(\"dirty\")\n",
    "    # Calculate the percentage of dirty samples\n",
    "    dirty_percentage = dirty_count / len(samples)\n",
    "    \n",
    "    if dirty_percentage < threshold:\n",
    "        return 'Clean'\n",
    "    return 'Polluted'\n",
    "\n",
    "\n",
    "print(checkAir(\n",
    "  ['clean', 'clean', 'dirty', 'clean', 'dirty', 'clean', 'clean', 'dirty', 'clean', 'dirty'],\n",
    "  0.3\n",
    "))\n",
    "\n",
    "print(checkAir(\n",
    "  ['dirty', 'dirty', 'dirty', 'dirty', 'clean'],\n",
    "  0.25\n",
    "))\n",
    "\n",
    "print(checkAir(\n",
    "  ['clean', 'dirty', 'clean', 'dirty', 'clean', 'dirty', 'clean'],\n",
    "  0.9\n",
    "))"
   ]
  },
  {
   "cell_type": "markdown",
   "id": "a40d96fe-45b4-4de4-81b1-e3dd6d58ea45",
   "metadata": {},
   "source": [
    "# Kata 6 (Stretch) - Repeating Numbers"
   ]
  },
  {
   "cell_type": "code",
   "execution_count": 6,
   "id": "fdbd4f92-01a2-4a73-aebf-ba50e1969077",
   "metadata": {},
   "outputs": [
    {
     "name": "stdout",
     "output_type": "stream",
     "text": [
      "1111111111\n",
      "11, 222\n",
      "10101010, 343434343434, 9292\n"
     ]
    }
   ],
   "source": [
    "def repeatNumbers(data):\n",
    "    '''\n",
    "     This function will return a string with each of the given values repeated the appropriate number of times.\n",
    "     If there are multiple sets of values each set would be separated by a comma. If there is only one set of values\n",
    "     then the comma is ommitted.\n",
    "    '''\n",
    "    \n",
    "    repeated = []\n",
    "    for num in data:\n",
    "        num_to_str = str(num[0])\n",
    "        repeated.append(num_to_str * num[1])\n",
    "    return (', '.join(repeated))\n",
    "\n",
    "\n",
    "print(repeatNumbers([[1, 10]]))\n",
    "print(repeatNumbers([[1, 2], [2, 3]]))\n",
    "print(repeatNumbers([[10, 4], [34, 6], [92, 2]]))"
   ]
  },
  {
   "cell_type": "markdown",
   "id": "160a3228-ccb9-4671-ace0-24673c0e9568",
   "metadata": {},
   "source": [
    "# Kata 7 (Stretch) - Case Maker"
   ]
  },
  {
   "cell_type": "code",
   "execution_count": 4,
   "id": "d94a9b44-7739-452b-99f0-b809d113b357",
   "metadata": {},
   "outputs": [
    {
     "name": "stdout",
     "output_type": "stream",
     "text": [
      "thisIsAString\n",
      "loopyLighthouse\n",
      "supercalifragalisticexpialidocious\n"
     ]
    }
   ],
   "source": [
    "def camelCase(input):\n",
    "    ''' This function will receive a normal string of words separated with spaces as the input. It will convert these strings into\n",
    "    camel cased strings where the first word is in lower case and the succeeding words in title case. They will also be joined into\n",
    "    one word. If the input contains only one word, it will return only that word in lower case.\n",
    "    '''\n",
    "    title_cased_list = input.title().split()\n",
    "    camel_cased_joined = title_cased_list[0].lower() + ''.join(word for word in title_cased_list[1:])\n",
    "    \n",
    "    return camel_cased_joined\n",
    "\n",
    "\n",
    "print(camelCase(\"this is a string\"))\n",
    "print(camelCase(\"loopy lighthouse\"))\n",
    "print(camelCase(\"supercalifragalisticexpialidocious\"))"
   ]
  },
  {
   "cell_type": "code",
   "execution_count": null,
   "id": "d924b14c-1b68-4559-9b74-9312c8b1189b",
   "metadata": {},
   "outputs": [],
   "source": []
  },
  {
   "cell_type": "code",
   "execution_count": null,
   "id": "034eb96b-348b-405a-ace8-059b26b4abde",
   "metadata": {},
   "outputs": [],
   "source": []
  }
 ],
 "metadata": {
  "kernelspec": {
   "display_name": "Python 3",
   "language": "python",
   "name": "python3"
  },
  "language_info": {
   "codemirror_mode": {
    "name": "ipython",
    "version": 3
   },
   "file_extension": ".py",
   "mimetype": "text/x-python",
   "name": "python",
   "nbconvert_exporter": "python",
   "pygments_lexer": "ipython3",
   "version": "3.8.8"
  }
 },
 "nbformat": 4,
 "nbformat_minor": 5
}
