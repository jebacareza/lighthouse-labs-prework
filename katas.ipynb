{
 "cells": [
  {
   "cell_type": "markdown",
   "id": "0bdfa082-3a9c-4d65-be78-b7d795142f45",
   "metadata": {},
   "source": [
    "# Kata 1 - Sum the Largest Numbers"
   ]
  },
  {
   "cell_type": "code",
   "execution_count": 22,
   "id": "b3a8f913-12e3-4624-a2be-fcfe4bc1da04",
   "metadata": {},
   "outputs": [
    {
     "name": "stdout",
     "output_type": "stream",
     "text": [
      "11\n",
      "5\n",
      "126\n"
     ]
    }
   ],
   "source": [
    "def sumLargestNumbers(number_list):\n",
    "    # Pickout the largest number\n",
    "    largest1 = max(number_list)\n",
    "    \n",
    "    # Determine index of largest number\n",
    "    index = number_list.index(largest1)\n",
    "    \n",
    "    # (Temporarily) remove the largest number from the list using its index\n",
    "    del number_list[index]\n",
    "    \n",
    "    # With the old largest number out of the way, determine the next largest number from the list\n",
    "    largest2 = max(number_list)\n",
    "    \n",
    "    # Return the sum of the largest and second largest numbers on the list\n",
    "    return largest1 + largest2\n",
    "\n",
    "print(sumLargestNumbers([1, 10]))\n",
    "print(sumLargestNumbers([1, 2, 3]))\n",
    "print(sumLargestNumbers([10, 4, 34, 6, 92, 2]))"
   ]
  },
  {
   "cell_type": "markdown",
   "id": "b9ee08d3-7f65-44c1-be41-91dda57ceee9",
   "metadata": {},
   "source": [
    "# Kata 2 - Conditional sums"
   ]
  },
  {
   "cell_type": "code",
   "execution_count": 53,
   "id": "c8dcaa99-7779-4b66-969e-367c77cff83d",
   "metadata": {},
   "outputs": [
    {
     "name": "stdout",
     "output_type": "stream",
     "text": [
      "6\n",
      "9\n",
      "144\n",
      "0\n"
     ]
    }
   ],
   "source": [
    "def conditionalSum(values, condition):\n",
    "    # Initialize sum\n",
    "    sum = 0\n",
    "    \n",
    "    # Condition \"even\"\n",
    "    if condition == 'even':\n",
    "        for i in values:\n",
    "            if i % 2 == 0 :\n",
    "                sum += i\n",
    "    \n",
    "    # Condition \"odd\"\n",
    "    elif condition == 'odd':\n",
    "        for i in values:\n",
    "            if i % 2 == 1:\n",
    "                sum += i\n",
    "    \n",
    "    # Empty lists will return 0\n",
    "    else:\n",
    "        return 0\n",
    "    \n",
    "    # Function returns the final sum value for even or odd numbers accordingly\n",
    "    return sum\n",
    "    \n",
    "\n",
    "print(conditionalSum([1, 2, 3, 4, 5], \"even\"))\n",
    "print(conditionalSum([1, 2, 3, 4, 5], \"odd\"))\n",
    "print(conditionalSum([13, 88, 12, 44, 99], \"even\"))\n",
    "print(conditionalSum([0], \"odd\"))"
   ]
  },
  {
   "cell_type": "markdown",
   "id": "03722207-6745-4956-8df2-f293dd3f2bc9",
   "metadata": {},
   "source": [
    "# Kata 3 - Vowels"
   ]
  },
  {
   "cell_type": "code",
   "execution_count": 54,
   "id": "30c182ec-17d9-4deb-a127-c849bd85d4b3",
   "metadata": {},
   "outputs": [
    {
     "name": "stdout",
     "output_type": "stream",
     "text": [
      "3\n",
      "5\n",
      "5\n"
     ]
    }
   ],
   "source": [
    "def numberOfVowels(data):\n",
    "    # List of vowels    \n",
    "    vowels = ['a', 'A', 'e', 'E', 'i', 'I', 'o', 'O', 'u', 'U']\n",
    "    \n",
    "    # Initial vowel count\n",
    "    vowel_count = 0\n",
    "    \n",
    "    # Use for loop and if statement to count vowels\n",
    "    for letter in data:\n",
    "        if letter in vowels:\n",
    "            vowel_count += 1\n",
    "    \n",
    "    # Return final vowel count for given string\n",
    "    return vowel_count\n",
    "\n",
    "print(numberOfVowels(\"orange\"))\n",
    "print(numberOfVowels(\"lighthouse labs\"))\n",
    "print(numberOfVowels(\"aeiou\"))"
   ]
  },
  {
   "cell_type": "code",
   "execution_count": null,
   "id": "fd4315d2-3c97-40e9-89b2-3da29d6653b0",
   "metadata": {},
   "outputs": [],
   "source": []
  }
 ],
 "metadata": {
  "kernelspec": {
   "display_name": "Python 3",
   "language": "python",
   "name": "python3"
  },
  "language_info": {
   "codemirror_mode": {
    "name": "ipython",
    "version": 3
   },
   "file_extension": ".py",
   "mimetype": "text/x-python",
   "name": "python",
   "nbconvert_exporter": "python",
   "pygments_lexer": "ipython3",
   "version": "3.8.8"
  }
 },
 "nbformat": 4,
 "nbformat_minor": 5
}
