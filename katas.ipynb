{
 "cells": [
  {
   "cell_type": "markdown",
   "id": "0bdfa082-3a9c-4d65-be78-b7d795142f45",
   "metadata": {},
   "source": [
    "# Kata 1 - Sum the Largest Numbers"
   ]
  },
  {
   "cell_type": "code",
   "execution_count": 22,
   "id": "b3a8f913-12e3-4624-a2be-fcfe4bc1da04",
   "metadata": {},
   "outputs": [
    {
     "name": "stdout",
     "output_type": "stream",
     "text": [
      "11\n",
      "5\n",
      "126\n"
     ]
    }
   ],
   "source": [
    "def sumLargestNumbers(number_list):\n",
    "    # Pickout the largest number\n",
    "    largest1 = max(number_list)\n",
    "    \n",
    "    # Determine index of largest number\n",
    "    index = number_list.index(largest1)\n",
    "    \n",
    "    # (Temporarily) remove the largest number from the list using its index\n",
    "    del number_list[index]\n",
    "    \n",
    "    # With the old largest number out of the way, determine the next largest number from the list\n",
    "    largest2 = max(number_list)\n",
    "    \n",
    "    # Return the sum of the largest and second largest numbers on the list\n",
    "    return largest1 + largest2\n",
    "\n",
    "print(sumLargestNumbers([1, 10]))\n",
    "print(sumLargestNumbers([1, 2, 3]))\n",
    "print(sumLargestNumbers([10, 4, 34, 6, 92, 2]))"
   ]
  },
  {
   "cell_type": "markdown",
   "id": "b9ee08d3-7f65-44c1-be41-91dda57ceee9",
   "metadata": {},
   "source": [
    "# Kata 2 - Conditional sums"
   ]
  },
  {
   "cell_type": "code",
   "execution_count": 53,
   "id": "c8dcaa99-7779-4b66-969e-367c77cff83d",
   "metadata": {},
   "outputs": [
    {
     "name": "stdout",
     "output_type": "stream",
     "text": [
      "6\n",
      "9\n",
      "144\n",
      "0\n"
     ]
    }
   ],
   "source": [
    "def conditionalSum(values, condition):\n",
    "    # Initialize sum\n",
    "    sum = 0\n",
    "    \n",
    "    # Condition \"even\"\n",
    "    if condition == 'even':\n",
    "        for i in values:\n",
    "            if i % 2 == 0 :\n",
    "                sum += i\n",
    "    \n",
    "    # Condition \"odd\"\n",
    "    elif condition == 'odd':\n",
    "        for i in values:\n",
    "            if i % 2 == 1:\n",
    "                sum += i\n",
    "    \n",
    "    # Empty lists will return 0\n",
    "    else:\n",
    "        return 0\n",
    "    \n",
    "    # Function returns the final sum value for even or odd numbers accordingly\n",
    "    return sum\n",
    "    \n",
    "\n",
    "print(conditionalSum([1, 2, 3, 4, 5], \"even\"))\n",
    "print(conditionalSum([1, 2, 3, 4, 5], \"odd\"))\n",
    "print(conditionalSum([13, 88, 12, 44, 99], \"even\"))\n",
    "print(conditionalSum([0], \"odd\"))"
   ]
  },
  {
   "cell_type": "markdown",
   "id": "03722207-6745-4956-8df2-f293dd3f2bc9",
   "metadata": {},
   "source": [
    "# Kata 3 - Vowels"
   ]
  },
  {
   "cell_type": "code",
   "execution_count": 54,
   "id": "30c182ec-17d9-4deb-a127-c849bd85d4b3",
   "metadata": {},
   "outputs": [
    {
     "name": "stdout",
     "output_type": "stream",
     "text": [
      "3\n",
      "5\n",
      "5\n"
     ]
    }
   ],
   "source": [
    "def numberOfVowels(data):\n",
    "    # List of vowels    \n",
    "    vowels = ['a', 'A', 'e', 'E', 'i', 'I', 'o', 'O', 'u', 'U']\n",
    "    \n",
    "    # Initial vowel count\n",
    "    vowel_count = 0\n",
    "    \n",
    "    # Use for loop and if statement to count vowels\n",
    "    for letter in data:\n",
    "        if letter in vowels:\n",
    "            vowel_count += 1\n",
    "    \n",
    "    # Return final vowel count for given string\n",
    "    return vowel_count\n",
    "\n",
    "print(numberOfVowels(\"orange\"))\n",
    "print(numberOfVowels(\"lighthouse labs\"))\n",
    "print(numberOfVowels(\"aeiou\"))"
   ]
  },
  {
   "cell_type": "markdown",
   "id": "854721aa-594f-45d9-a3f8-c5abcffc4b0d",
   "metadata": {},
   "source": [
    "# Kata 4 - Instructors Names"
   ]
  },
  {
   "cell_type": "code",
   "execution_count": 43,
   "id": "e84ef180-d848-42f4-b55c-624adc5c19b1",
   "metadata": {},
   "outputs": [
    {
     "name": "stdout",
     "output_type": "stream",
     "text": [
      "{'name': 'Jeremiah', 'course': 'Data'}\n",
      "{'name': 'Domascus', 'course': 'Web'}\n"
     ]
    }
   ],
   "source": [
    "def instructorWithLongestName(instructors):\n",
    "    # List instructor names\n",
    "    names = []\n",
    "    for instructor in instructors:\n",
    "        names.append(instructor['name'])\n",
    "    \n",
    "    # Calculate and collect name lengths\n",
    "    name_length = []    \n",
    "    for name in names:\n",
    "        name_length.append(len(name))\n",
    "    \n",
    "    # Determine longest name (the first one if there are more than one)\n",
    "    for name in names:\n",
    "        if len(name) == max(name_length):\n",
    "            longest_name = name\n",
    "            break\n",
    "    \n",
    "    # Return dictionary object that contains instructor with longest name details\n",
    "    for i in range(len(instructors)):\n",
    "            if instructors[i][\"name\"] == longest_name:\n",
    "                instructor_longest_name_details = (instructors[i])\n",
    "            \n",
    "    return instructor_longest_name_details\n",
    "\n",
    "    \n",
    "print(instructorWithLongestName([\n",
    "  {\"name\": \"Samuel\", \"course\": \"iOS\"},\n",
    "  {\"name\": \"Jeremiah\", \"course\": \"Data\"},\n",
    "  {\"name\": \"Ophilia\", \"course\": \"Web\"},\n",
    "  {\"name\": \"Donald\", \"course\": \"Web\"}\n",
    "]))\n",
    "print(instructorWithLongestName([\n",
    "  {\"name\": \"Matthew\", \"course\": \"Data\"},\n",
    "  {\"name\": \"David\", \"course\": \"iOS\"},\n",
    "  {\"name\": \"Domascus\", \"course\": \"Web\"}\n",
    "]))"
   ]
  },
  {
   "cell_type": "code",
   "execution_count": 19,
   "id": "efd94bec-cfb2-48eb-a097-c647acbf5d72",
   "metadata": {},
   "outputs": [
    {
     "name": "stdout",
     "output_type": "stream",
     "text": [
      "11\n",
      "7\n"
     ]
    }
   ],
   "source": []
  },
  {
   "cell_type": "code",
   "execution_count": null,
   "id": "7db4f71c-09c9-4a55-8147-2da55c35b61c",
   "metadata": {},
   "outputs": [],
   "source": []
  }
 ],
 "metadata": {
  "kernelspec": {
   "display_name": "Python 3",
   "language": "python",
   "name": "python3"
  },
  "language_info": {
   "codemirror_mode": {
    "name": "ipython",
    "version": 3
   },
   "file_extension": ".py",
   "mimetype": "text/x-python",
   "name": "python",
   "nbconvert_exporter": "python",
   "pygments_lexer": "ipython3",
   "version": "3.8.8"
  }
 },
 "nbformat": 4,
 "nbformat_minor": 5
}
