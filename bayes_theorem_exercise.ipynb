{
 "cells": [
  {
   "cell_type": "markdown",
   "metadata": {
    "ExecuteTime": {
     "end_time": "2020-02-05T17:56:18.818219Z",
     "start_time": "2020-02-05T17:56:18.810698Z"
    }
   },
   "source": [
    "## Exercise 1\n",
    "In Orange County, 51% of the adults are males. (It doesn't take too much advanced\n",
    "mathematics to deduce that the other 49% are females.) One adult is randomly selected\n",
    "for a survey involving credit card usage.\n",
    "\n",
    "- **(a)** Find the probability that the selected person is a male.\n",
    "\n",
    "- **(b)** It is later learned that the selected survey subject was smoking a cigar. Also, 9.5% of males smoke cigars, whereas 1.7% of females smoke cigars (based on data from the Substance Abuse and Mental Health Services Administration). Use this additional information to find the probability that the cigar−smoking respondent is a male\n",
    "\n",
    "Use following notation:\n",
    "M = male <br>\n",
    "F = female <br>\n",
    "C = cigar smoker<br>\n",
    "NC = not a cigar smoker<br>\n"
   ]
  },
  {
   "cell_type": "code",
   "execution_count": 127,
   "metadata": {},
   "outputs": [
    {
     "name": "stdout",
     "output_type": "stream",
     "text": [
      "The probability that the selected person is a male is just 0.51.\n"
     ]
    }
   ],
   "source": [
    "# Given:\n",
    "\n",
    "# P(M) - 51% of the adults are males\n",
    "M = 0.51\n",
    "\n",
    "# P(F) - 49% of the adults are females\n",
    "F = 0.49\n",
    "\n",
    "# P(C) - 9.5% of the males smoke cigars\n",
    "C = 0.095\n",
    "\n",
    "# P(NC) - 1.7% of the females smoke cigars\n",
    "NC = 0.017\n",
    "\n",
    "print(f'The probability that the selected person is a male is just {M}.') \n",
    "\n"
   ]
  },
  {
   "cell_type": "code",
   "execution_count": 128,
   "metadata": {},
   "outputs": [],
   "source": [
    "# Solution to b"
   ]
  },
  {
   "cell_type": "code",
   "execution_count": 129,
   "metadata": {},
   "outputs": [
    {
     "name": "stdout",
     "output_type": "stream",
     "text": [
      "The probability that the cigar-smoking respondent is a male is 0.85.\n"
     ]
    }
   ],
   "source": [
    "# Based on Bayes' Theorem:\n",
    "MC = round((M * C) / ((M * C) + (F * NC)), 2)\n",
    "print(f'The probability that the cigar-smoking respondent is a male is {MC}.')"
   ]
  },
  {
   "cell_type": "markdown",
   "metadata": {
    "ExecuteTime": {
     "end_time": "2020-02-05T17:56:20.532960Z",
     "start_time": "2020-02-05T17:56:20.525450Z"
    }
   },
   "source": [
    "# Exercise 2\n",
    "\n",
    "A diagnostic test has a probability 0.95 of giving a positive result when applied to a person suffering\n",
    "from a certain disease, and a probability 0.10 of giving a (false) positive when applied to a non-sufferer. It is\n",
    "estimated that 0.5 % of the population are sufferers. Suppose that the test is now administered to a person about\n",
    "whom we have no relevant information relating to the disease (apart from the fact that he/she comes from this\n",
    "population). \n",
    "\n",
    "Calculate the following probabilities:\n",
    "- **(a)** that the test result will be positive;\n",
    "- **(b)** that, given a positive result, the person is a sufferer;\n",
    "- **(c)** that, given a negative result, the person is a non-sufferer;\n",
    "- **(d)** that the person will be misclassified.\n",
    "\n",
    "Use following notation:\n",
    "\n",
    "T = test positive <br>\n",
    "NT = test negative<br>\n",
    "S = sufferer<br>\n",
    "NS = non-sufferer<br>\n",
    "M = misclassified<br>\n",
    "\n",
    "Solve it by two approaches:\n",
    "1. Arithmetically\n",
    "2. By simulation"
   ]
  },
  {
   "cell_type": "markdown",
   "metadata": {},
   "source": [
    "### Arithmetically"
   ]
  },
  {
   "cell_type": "code",
   "execution_count": 11,
   "metadata": {},
   "outputs": [
    {
     "name": "stdout",
     "output_type": "stream",
     "text": [
      "Given:\n",
      "P(T|S) = 0.95 --> the probability of the test giving a positive result when applied to a person suffering from a certain disease\n",
      "P(T|NS) = 0.1 --> the probability of giving a positive result when applied to non-sufferers\n",
      "P(NT|NS) = 0.9 --> the probability of giving a negative result when applied to non-sufferers\n",
      "P(S) = 0.005 --> the percentage of the population that are sufferers\n",
      "P(NS) = 0.995 --> the percentage of the population that are non-sufferers\n",
      "\n",
      "\n",
      "a) The probability that the test result will be positive is: P(T) = 0.10425000000000001\n",
      "It would also follow that P(NT) = 0.89575 since P(NT) = 1 = P(T)\n",
      "b) The probability that, given a positive result, the person is a sufferer is: P(S|T) = 0.04556354916067146\n",
      "c) The probability that, given a negative result, the person is a non-sufferer is: P(NS|NT) = 0.9997209042701646\n",
      "d) The probability that a person will be misclassified is: P(M) = 0.09975\n"
     ]
    }
   ],
   "source": [
    "# Given Data\n",
    "print('Given:')\n",
    "\n",
    "# P(S) - sufferer\n",
    "S = 0.005\n",
    "\n",
    "# P(NS) - non-sufferer\n",
    "NS = 0.995\n",
    "\n",
    "# P(M) - misclassified\n",
    "\n",
    "T_S = 0.95\n",
    "print(f'P(T|S) = {T_S} --> the probability of the test giving a positive result when applied to a person suffering from a certain disease')\n",
    "\n",
    "T_NS = 0.10\n",
    "print(f'P(T|NS) = {T_NS} --> the probability of giving a positive result when applied to non-sufferers')\n",
    "\n",
    "NT_NS = 1 - T_NS\n",
    "# NT_NS = 1 - T_NS = 1 - 0.10 = 0.90\n",
    "print(f'P(NT|NS) = {NT_NS} --> the probability of giving a negative result when applied to non-sufferers')\n",
    "\n",
    "print(f'P(S) = {S} --> the percentage of the population that are sufferers')\n",
    "print(f'P(NS) = {NS} --> the percentage of the population that are non-sufferers')\n",
    "\n",
    "\n",
    "'''Based on Bayes' Theorem and Conditional Probability:\n",
    "\n",
    "Bayes' Theorem\n",
    "P(A|B) = P(A) * P(B|A) / P(B)\n",
    "or\n",
    "P(A_B) = P(A) * P(B_A) / P(B)\n",
    "\n",
    "\n",
    "P(A and B) = P(A) * P(B|A) \n",
    "'''\n",
    "\n",
    "\n",
    "# (a) that the test result will be positive;\n",
    "# P(T) = P(T|S)P(S) + P(T|NS)P(NS) \n",
    "T = (T_S * S) + (T_NS * NS)\n",
    "print('\\n')\n",
    "print(f'a) The probability that the test result will be positive is: P(T) = {T}')\n",
    "\n",
    "# Given that we now have the result for P(T), P(NT) = 1 - P(T)\n",
    "NT = 1 - T\n",
    "print(f'It would also follow that P(NT) = {NT} since P(NT) = 1 = P(T)')\n",
    "# (b) that, given a positive result, the person is a sufferer;\n",
    "# P(S|T) = P(T|S)P(S) / P(T)\n",
    "S_T = T_S * S / T\n",
    "print(f'b) The probability that, given a positive result, the person is a sufferer is: P(S|T) = {S_T}')\n",
    "\n",
    "# (c) that, given a negative result, the person is a non-sufferer;\n",
    "# P(NS|NT) = P(NT|NS)P(NS) / P(NT)\n",
    "NS_NT = NT_NS * NS / NT\n",
    "print(f'c) The probability that, given a negative result, the person is a non-sufferer is: P(NS|NT) = {NS_NT}')\n",
    "\n",
    "# (d) that the person will be misclassified\n",
    "# P(M) = P(T and NS) + P (NT and S) = P(NS)P(T_NS) + P(S)P(NT_S)\n",
    "NT_S = 1 - T_S\n",
    "M = (T_NS * NS) + (NT_S * S) \n",
    "print(f'd) The probability that a person will be misclassified is: P(M) = {M}')\n"
   ]
  },
  {
   "cell_type": "markdown",
   "metadata": {},
   "source": [
    "### By Simulation"
   ]
  },
  {
   "cell_type": "code",
   "execution_count": 1,
   "metadata": {},
   "outputs": [],
   "source": [
    "# how many times simulation is run\n",
    "n_runs = 100000\n",
    "\n",
    "# Initialize variables\n",
    "TEST_POSITIVE = 0\n",
    "TEST_NEGATIVE = 0\n",
    "SUFFERER = 0\n",
    "NON_SUFFERER = 0\n",
    "SUFFERER_POSITIVE = 0\n",
    "SUFFERER_NEGATIVE = 0\n",
    "NON_SUFFERER_POSITIVE = 0\n",
    "NON_SUFFERER_NEGATIVE = 0\n",
    "MISCLASSIFIED = 0"
   ]
  },
  {
   "cell_type": "code",
   "execution_count": 2,
   "metadata": {},
   "outputs": [],
   "source": [
    "# import numpy\n",
    "import numpy as np\n",
    "\n",
    "# process simulation\n",
    "for _ in range(n_runs):\n",
    "    # the percentage of the population that are sufferers\n",
    "    if np.random.random() < 0.005: \n",
    "        SUFFERER += 1\n",
    "\n",
    "        # testing positive\n",
    "        if np.random.random() < 0.95:\n",
    "            SUFFERER_POSITIVE += 1\n",
    "            TEST_POSITIVE +=1\n",
    "\n",
    "        # testing negative\n",
    "        else:\n",
    "            SUFFERER_NEGATIVE += 1\n",
    "            TEST_NEGATIVE += 1\n",
    "\n",
    "    # the percentage of the population that are non-sufferers\n",
    "    else:\n",
    "        NON_SUFFERER += 1\n",
    "\n",
    "        # testing positive\n",
    "        if np.random.random() < 0.1:\n",
    "            NON_SUFFERER_POSITIVE += 1\n",
    "            TEST_POSITIVE += 1\n",
    "\n",
    "        # testing negative\n",
    "        else:\n",
    "            NON_SUFFERER_NEGATIVE += 1\n",
    "            TEST_NEGATIVE += 1\n"
   ]
  },
  {
   "cell_type": "code",
   "execution_count": 3,
   "metadata": {},
   "outputs": [],
   "source": [
    "# create probabilities\n",
    "P_SUFFERER = SUFFERER / n_runs * 100\n",
    "P_SUFFERER_POSITIVE = SUFFERER_POSITIVE / n_runs * 100\n",
    "P_SUFFERER_NEGATIVE = SUFFERER_NEGATIVE / n_runs * 100\n",
    "P_NON_SUFFERER = NON_SUFFERER / n_runs * 100\n",
    "P_NON_SUFFERER_POSITIVE = NON_SUFFERER_POSITIVE / n_runs * 100\n",
    "P_NON_SUFFERER_NEGATIVE = NON_SUFFERER_NEGATIVE / n_runs * 100\n",
    "P_TEST_POSITIVE = TEST_POSITIVE / n_runs * 100\n",
    "P_TEST_NEGATIVE = TEST_NEGATIVE / n_runs * 100"
   ]
  },
  {
   "cell_type": "code",
   "execution_count": 7,
   "metadata": {},
   "outputs": [
    {
     "name": "stdout",
     "output_type": "stream",
     "text": [
      "The percentage of the population that are sufferers: 0.47200000000000003%\n",
      "The probability that, given a positive result, the person is a sufferer is: 0.449%\n",
      "The probability that, given a negative result, the person is a sufferer is: 0.023%\n",
      "The percentage of the population that are non-sufferers: 99.528%\n",
      "The probability that, given a positive result, the person is a non-sufferer is: 9.836%\n",
      "The probability that, given a negative result, the person is a non-sufferer is: 89.69200000000001%\n",
      "The test result will be positive: 10.285%\n",
      "The test result will be negative: 89.715%\n"
     ]
    }
   ],
   "source": [
    "print(f'The percentage of the population that are sufferers: {P_SUFFERER}%')\n",
    "print(f'The probability that, given a positive result, the person is a sufferer is: {P_SUFFERER_POSITIVE}%')\n",
    "print(f'The probability that, given a negative result, the person is a sufferer is: {P_SUFFERER_NEGATIVE}%')\n",
    "print(f'The percentage of the population that are non-sufferers: {P_NON_SUFFERER}%')\n",
    "print(f'The probability that, given a positive result, the person is a non-sufferer is: {P_NON_SUFFERER_POSITIVE}%')\n",
    "print(f'The probability that, given a negative result, the person is a non-sufferer is: {P_NON_SUFFERER_NEGATIVE}%')\n",
    "print(f'The test result will be positive: {P_TEST_POSITIVE}%')\n",
    "print(f'The test result will be negative: {P_TEST_NEGATIVE}%')\n"
   ]
  },
  {
   "cell_type": "code",
   "execution_count": null,
   "metadata": {},
   "outputs": [],
   "source": []
  },
  {
   "cell_type": "code",
   "execution_count": null,
   "metadata": {},
   "outputs": [],
   "source": []
  }
 ],
 "metadata": {
  "kernelspec": {
   "display_name": "Python 3",
   "language": "python",
   "name": "python3"
  },
  "language_info": {
   "codemirror_mode": {
    "name": "ipython",
    "version": 3
   },
   "file_extension": ".py",
   "mimetype": "text/x-python",
   "name": "python",
   "nbconvert_exporter": "python",
   "pygments_lexer": "ipython3",
   "version": "3.8.8"
  },
  "toc": {
   "base_numbering": 1,
   "nav_menu": {},
   "number_sections": true,
   "sideBar": true,
   "skip_h1_title": false,
   "title_cell": "Table of Contents",
   "title_sidebar": "Contents",
   "toc_cell": false,
   "toc_position": {},
   "toc_section_display": true,
   "toc_window_display": false
  },
  "varInspector": {
   "cols": {
    "lenName": 16,
    "lenType": 16,
    "lenVar": 40
   },
   "kernels_config": {
    "python": {
     "delete_cmd_postfix": "",
     "delete_cmd_prefix": "del ",
     "library": "var_list.py",
     "varRefreshCmd": "print(var_dic_list())"
    },
    "r": {
     "delete_cmd_postfix": ") ",
     "delete_cmd_prefix": "rm(",
     "library": "var_list.r",
     "varRefreshCmd": "cat(var_dic_list()) "
    }
   },
   "types_to_exclude": [
    "module",
    "function",
    "builtin_function_or_method",
    "instance",
    "_Feature"
   ],
   "window_display": false
  }
 },
 "nbformat": 4,
 "nbformat_minor": 4
}
