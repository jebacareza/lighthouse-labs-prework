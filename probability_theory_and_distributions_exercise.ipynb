{
 "cells": [
  {
   "cell_type": "code",
   "execution_count": 3,
   "metadata": {
    "ExecuteTime": {
     "end_time": "2020-02-05T17:54:42.062131Z",
     "start_time": "2020-02-05T17:54:41.626763Z"
    }
   },
   "outputs": [],
   "source": [
    "# import numpy\n",
    "import numpy as np\n",
    "\n",
    "# import matplotlib.pyplot\n",
    "import matplotlib.pyplot as plt\n",
    "\n",
    "# import Counter\n",
    "from collections import Counter\n",
    "\n",
    "# use style 'fivethirtyeight' (optional)\n",
    "plt.style.use('fivethirtyeight')"
   ]
  },
  {
   "cell_type": "markdown",
   "metadata": {
    "ExecuteTime": {
     "end_time": "2020-02-05T17:54:42.113199Z",
     "start_time": "2020-02-05T17:54:42.101587Z"
    }
   },
   "source": [
    "#### Create function `perform_bernoulli_trial` with parameters n and p\n",
    "\n",
    "PARAMS:\n",
    "- n (int) - number of trials\n",
    "- p (float) - probability of success\n",
    "\n",
    "RETURNS:\n",
    "- n_success (int) - number of successes\n",
    "\n"
   ]
  },
  {
   "cell_type": "code",
   "execution_count": 8,
   "metadata": {},
   "outputs": [],
   "source": [
    "def perform_bernoulli_trial(n, p):\n",
    "    \n",
    "    # Initialize to zero n success which counts Bernoulli trial successes\n",
    "    n_success = 0\n",
    "    \n",
    "    # Execute trials ad store random number result\n",
    "    for i in range(n):\n",
    "        random_number = np.random.random()\n",
    "        \n",
    "        # If the random number is less than p, it's counted as a success\n",
    "        if random_number < p:\n",
    "            n_success += 1\n",
    "            \n",
    "    return n_success"
   ]
  },
  {
   "cell_type": "code",
   "execution_count": 9,
   "metadata": {},
   "outputs": [
    {
     "data": {
      "text/plain": [
       "5"
      ]
     },
     "execution_count": 9,
     "metadata": {},
     "output_type": "execute_result"
    }
   ],
   "source": [
    "perform_bernoulli_trial(10, 0.5)"
   ]
  },
  {
   "cell_type": "markdown",
   "metadata": {
    "ExecuteTime": {
     "end_time": "2020-02-05T17:54:42.610756Z",
     "start_time": "2020-02-05T17:54:42.602316Z"
    }
   },
   "source": [
    "#### Use function `perform_bernoulli_trial` with inputs n = 100, p = 0.5"
   ]
  },
  {
   "cell_type": "code",
   "execution_count": 33,
   "metadata": {},
   "outputs": [
    {
     "data": {
      "text/plain": [
       "51"
      ]
     },
     "execution_count": 33,
     "metadata": {},
     "output_type": "execute_result"
    }
   ],
   "source": [
    "perform_bernoulli_trial(100, 0.5)"
   ]
  },
  {
   "cell_type": "code",
   "execution_count": null,
   "metadata": {},
   "outputs": [],
   "source": []
  },
  {
   "cell_type": "markdown",
   "metadata": {
    "ExecuteTime": {
     "end_time": "2020-02-05T17:54:43.020097Z",
     "start_time": "2020-02-05T17:54:42.962800Z"
    }
   },
   "source": [
    "#### Call function _perform_bernoulli_trial_ 1000-times with same parameters as before and store the result in `successes_list`"
   ]
  },
  {
   "cell_type": "code",
   "execution_count": 40,
   "metadata": {},
   "outputs": [
    {
     "name": "stdout",
     "output_type": "stream",
     "text": [
      "[48, 52, 53, 47, 54, 56, 46, 56, 45, 52, 53, 50, 55, 48, 44, 51, 60, 53, 48, 40, 56, 51, 47, 51, 50, 54, 54, 51, 46, 46, 54, 54, 48, 63, 55, 40, 46, 52, 48, 50, 50, 51, 53, 52, 49, 50, 41, 54, 50, 62, 47, 51, 45, 51, 55, 41, 53, 55, 44, 53, 45, 52, 55, 59, 48, 47, 45, 52, 52, 50, 50, 55, 48, 54, 44, 50, 55, 60, 61, 52, 42, 43, 49, 49, 54, 56, 42, 52, 48, 56, 40, 44, 52, 45, 52, 47, 63, 59, 56, 45, 52, 48, 47, 47, 46, 52, 50, 51, 42, 47, 56, 42, 60, 49, 49, 48, 49, 51, 53, 43, 59, 55, 51, 48, 51, 47, 57, 47, 50, 56, 45, 46, 48, 44, 48, 52, 49, 51, 47, 42, 53, 49, 50, 42, 54, 49, 41, 45, 51, 53, 57, 58, 57, 40, 54, 50, 45, 50, 43, 62, 58, 53, 61, 44, 54, 50, 42, 55, 48, 53, 59, 40, 66, 48, 45, 43, 44, 56, 44, 56, 39, 42, 51, 51, 45, 50, 44, 48, 47, 51, 54, 37, 44, 50, 47, 54, 51, 53, 47, 52, 49, 44, 53, 49, 46, 56, 51, 52, 54, 49, 44, 48, 48, 42, 52, 45, 53, 39, 50, 52, 53, 50, 44, 46, 39, 50, 56, 51, 40, 52, 43, 44, 51, 48, 52, 54, 56, 44, 53, 49, 49, 42, 48, 47, 49, 53, 51, 52, 47, 58, 50, 57, 42, 52, 47, 57, 49, 48, 47, 50, 44, 44, 50, 43, 49, 50, 52, 52, 49, 50, 50, 44, 46, 45, 54, 54, 54, 46, 51, 47, 52, 56, 49, 41, 51, 51, 43, 50, 49, 45, 44, 58, 52, 46, 51, 53, 51, 51, 49, 54, 51, 51, 49, 52, 46, 46, 54, 48, 53, 46, 52, 50, 53, 53, 48, 49, 55, 50, 52, 50, 47, 48, 49, 58, 58, 47, 49, 48, 44, 46, 56, 45, 54, 58, 42, 46, 44, 51, 57, 54, 51, 51, 60, 48, 45, 45, 44, 55, 44, 45, 56, 63, 56, 53, 43, 46, 50, 53, 48, 59, 53, 51, 54, 61, 48, 45, 52, 54, 45, 55, 40, 44, 58, 53, 50, 52, 52, 51, 54, 54, 47, 58, 42, 53, 44, 50, 53, 52, 57, 50, 53, 41, 46, 56, 48, 53, 51, 49, 49, 55, 47, 51, 51, 44, 46, 51, 42, 53, 45, 51, 50, 50, 51, 55, 47, 50, 45, 51, 56, 52, 47, 57, 48, 47, 49, 49, 57, 50, 51, 58, 53, 52, 51, 33, 51, 57, 48, 61, 51, 43, 51, 50, 53, 47, 51, 49, 51, 54, 58, 56, 59, 46, 53, 47, 47, 44, 45, 53, 43, 52, 50, 44, 60, 47, 54, 53, 57, 48, 49, 56, 51, 42, 47, 54, 53, 46, 48, 49, 49, 50, 46, 52, 56, 50, 52, 48, 45, 50, 49, 44, 45, 39, 45, 43, 48, 48, 53, 54, 59, 49, 50, 47, 39, 46, 39, 46, 51, 53, 50, 48, 54, 51, 40, 44, 60, 48, 47, 39, 54, 48, 47, 50, 50, 53, 42, 51, 48, 46, 60, 49, 50, 51, 62, 52, 46, 54, 53, 55, 57, 46, 41, 51, 51, 52, 45, 48, 49, 54, 41, 45, 49, 53, 51, 37, 53, 48, 48, 58, 48, 45, 53, 45, 49, 46, 55, 46, 55, 49, 54, 54, 48, 48, 52, 48, 53, 41, 44, 51, 59, 54, 45, 46, 41, 53, 55, 44, 48, 48, 42, 50, 56, 47, 51, 45, 50, 50, 44, 55, 48, 43, 48, 52, 52, 44, 41, 49, 51, 57, 58, 51, 45, 50, 51, 57, 54, 57, 41, 49, 44, 51, 47, 49, 47, 47, 59, 54, 54, 49, 54, 52, 52, 58, 58, 59, 55, 58, 50, 50, 56, 53, 51, 58, 60, 42, 48, 54, 59, 60, 53, 46, 47, 54, 55, 50, 53, 55, 49, 47, 51, 49, 44, 51, 61, 48, 58, 56, 50, 52, 58, 39, 45, 44, 49, 49, 55, 58, 48, 46, 49, 50, 40, 47, 43, 49, 46, 57, 46, 48, 47, 47, 48, 53, 53, 56, 48, 48, 53, 47, 47, 41, 54, 48, 55, 46, 45, 48, 51, 48, 49, 46, 56, 53, 50, 55, 46, 46, 52, 53, 58, 54, 58, 51, 40, 46, 55, 46, 50, 49, 64, 48, 57, 57, 49, 50, 50, 53, 52, 49, 49, 47, 52, 54, 47, 44, 42, 64, 49, 57, 61, 57, 50, 55, 52, 58, 65, 44, 45, 38, 51, 48, 46, 55, 42, 62, 48, 51, 55, 46, 53, 48, 52, 48, 57, 52, 51, 56, 52, 39, 53, 46, 59, 46, 44, 46, 56, 57, 51, 48, 60, 51, 54, 53, 45, 52, 47, 47, 49, 44, 54, 44, 41, 49, 49, 54, 51, 39, 48, 40, 41, 46, 56, 51, 45, 52, 56, 45, 60, 49, 49, 48, 44, 41, 45, 53, 46, 51, 50, 48, 55, 47, 49, 48, 45, 43, 47, 50, 58, 49, 49, 53, 51, 48, 52, 44, 62, 56, 50, 50, 49, 44, 46, 49, 50, 51, 52, 59, 53, 62, 41, 44, 56, 49, 47, 43, 44, 59, 45, 62, 59, 42, 45, 43, 46, 49, 58, 46, 44, 53, 42, 45, 45, 52, 56, 55, 44, 47, 56, 41, 47, 52, 54, 47, 50, 52, 61, 57, 43, 48, 53, 58, 56, 50, 49, 55, 50, 50, 57, 50, 38, 46, 51, 52, 52, 45, 50, 57, 44, 43, 48, 48, 51, 50, 47, 51, 52, 59, 49, 46, 46, 49, 57, 53, 44, 38, 49, 48, 44, 51, 40, 55, 49, 50, 54, 51, 46, 52, 47, 40, 50, 51, 51, 57, 53, 52, 53, 60, 59, 50, 52, 44, 43, 47, 47, 55, 52, 53, 39, 41, 41, 47, 50, 55, 42, 42, 58, 47, 50, 61, 51, 54, 43, 58, 44, 55, 45, 46, 48, 53, 51, 55, 41, 46, 51, 47, 54, 48, 43, 51, 52, 65]\n"
     ]
    }
   ],
   "source": [
    "# Initialize list\n",
    "successes_list = []\n",
    "\n",
    "# Perform trial 1000 times\n",
    "for i in range(1000):\n",
    "    \n",
    "    # Calculate result and append to successes_list\n",
    "    successes_list.append(perform_bernoulli_trial(100, 0.5))\n",
    "\n",
    "print(successes_list)"
   ]
  },
  {
   "cell_type": "code",
   "execution_count": null,
   "metadata": {},
   "outputs": [],
   "source": []
  },
  {
   "cell_type": "markdown",
   "metadata": {
    "ExecuteTime": {
     "end_time": "2020-02-05T17:54:43.296477Z",
     "start_time": "2020-02-05T17:54:43.289959Z"
    }
   },
   "source": [
    "#### Count occurence of each number from `successes_list` using Counter and store the result in `count_occurence`\n",
    "\n",
    "You can find for more info about Counter [**here**](https://docs.python.org/2/library/collections.html#collections.Counter)."
   ]
  },
  {
   "cell_type": "code",
   "execution_count": 43,
   "metadata": {},
   "outputs": [
    {
     "name": "stdout",
     "output_type": "stream",
     "text": [
      "Counter({51: 88, 50: 79, 48: 78, 49: 73, 52: 68, 53: 67, 47: 62, 46: 56, 44: 54, 54: 53, 45: 47, 55: 37, 56: 36, 58: 28, 57: 27, 42: 24, 43: 21, 41: 20, 59: 17, 40: 13, 60: 12, 39: 11, 61: 8, 62: 7, 63: 3, 38: 3, 37: 2, 64: 2, 65: 2, 66: 1, 33: 1})\n"
     ]
    }
   ],
   "source": [
    "count_occurrence = Counter(successes_list)\n",
    "print(count_occurrence)"
   ]
  },
  {
   "cell_type": "code",
   "execution_count": null,
   "metadata": {},
   "outputs": [],
   "source": []
  },
  {
   "cell_type": "markdown",
   "metadata": {
    "ExecuteTime": {
     "end_time": "2020-02-05T17:54:43.571225Z",
     "start_time": "2020-02-05T17:54:43.568147Z"
    }
   },
   "source": [
    "#### Count the probability for each number from `count_occurence` and store the result in `probas`\n"
   ]
  },
  {
   "cell_type": "code",
   "execution_count": null,
   "metadata": {},
   "outputs": [],
   "source": []
  },
  {
   "cell_type": "code",
   "execution_count": null,
   "metadata": {},
   "outputs": [],
   "source": []
  },
  {
   "cell_type": "markdown",
   "metadata": {},
   "source": [
    "Below you have some information about how to do plots in Python. We will be covering all of this during the bootcamp. But you can find these basics here so we can visualize the distributions."
   ]
  },
  {
   "cell_type": "code",
   "execution_count": null,
   "metadata": {
    "ExecuteTime": {
     "end_time": "2020-02-05T17:54:44.056628Z",
     "start_time": "2020-02-05T17:54:43.850076Z"
    }
   },
   "outputs": [],
   "source": [
    "# plot distribution (PMF) of 'succes_list'\n",
    "plt.scatter(x=count_occurence.keys(), y=probas)\n",
    "plt.xlabel('number of succeess out of 100')\n",
    "plt.ylabel('probability')\n",
    "# Show the plot\n",
    "plt.show()"
   ]
  },
  {
   "cell_type": "markdown",
   "metadata": {
    "ExecuteTime": {
     "end_time": "2020-02-05T17:54:44.112264Z",
     "start_time": "2020-02-05T17:54:44.096570Z"
    }
   },
   "source": [
    "#### Generate 100000 numbers from uniform distribution with parameters a = 1, b = 6\n"
   ]
  },
  {
   "cell_type": "code",
   "execution_count": null,
   "metadata": {},
   "outputs": [],
   "source": []
  },
  {
   "cell_type": "code",
   "execution_count": null,
   "metadata": {},
   "outputs": [],
   "source": []
  },
  {
   "cell_type": "code",
   "execution_count": 3,
   "metadata": {
    "ExecuteTime": {
     "end_time": "2020-02-05T17:54:44.515039Z",
     "start_time": "2020-02-05T17:54:44.330746Z"
    },
    "collapsed": true,
    "jupyter": {
     "outputs_hidden": true
    }
   },
   "outputs": [
    {
     "ename": "NameError",
     "evalue": "name 'plt' is not defined",
     "output_type": "error",
     "traceback": [
      "\u001b[0;31m---------------------------------------------------------------------------\u001b[0m",
      "\u001b[0;31mNameError\u001b[0m                                 Traceback (most recent call last)",
      "\u001b[0;32m<ipython-input-3-96137867e4bb>\u001b[0m in \u001b[0;36m<module>\u001b[0;34m\u001b[0m\n\u001b[1;32m      1\u001b[0m \u001b[0;31m# plot histogram of uniform distribution with paramsdensity=True, bins=6\u001b[0m\u001b[0;34m\u001b[0m\u001b[0;34m\u001b[0m\u001b[0;34m\u001b[0m\u001b[0m\n\u001b[0;32m----> 2\u001b[0;31m \u001b[0mplt\u001b[0m\u001b[0;34m.\u001b[0m\u001b[0mhist\u001b[0m\u001b[0;34m(\u001b[0m\u001b[0muniform\u001b[0m\u001b[0;34m,\u001b[0m \u001b[0mdensity\u001b[0m\u001b[0;34m=\u001b[0m\u001b[0;32mTrue\u001b[0m\u001b[0;34m,\u001b[0m \u001b[0mbins\u001b[0m\u001b[0;34m=\u001b[0m\u001b[0;36m6\u001b[0m\u001b[0;34m)\u001b[0m\u001b[0;34m\u001b[0m\u001b[0;34m\u001b[0m\u001b[0m\n\u001b[0m\u001b[1;32m      3\u001b[0m \u001b[0mplt\u001b[0m\u001b[0;34m.\u001b[0m\u001b[0mylabel\u001b[0m\u001b[0;34m(\u001b[0m\u001b[0;34m'density'\u001b[0m\u001b[0;34m)\u001b[0m\u001b[0;34m\u001b[0m\u001b[0;34m\u001b[0m\u001b[0m\n\u001b[1;32m      4\u001b[0m \u001b[0mplt\u001b[0m\u001b[0;34m.\u001b[0m\u001b[0mxlabel\u001b[0m\u001b[0;34m(\u001b[0m\u001b[0;34m'value'\u001b[0m\u001b[0;34m)\u001b[0m\u001b[0;34m\u001b[0m\u001b[0;34m\u001b[0m\u001b[0m\n\u001b[1;32m      5\u001b[0m \u001b[0mplt\u001b[0m\u001b[0;34m.\u001b[0m\u001b[0mshow\u001b[0m\u001b[0;34m(\u001b[0m\u001b[0;34m)\u001b[0m\u001b[0;34m\u001b[0m\u001b[0;34m\u001b[0m\u001b[0m\n",
      "\u001b[0;31mNameError\u001b[0m: name 'plt' is not defined"
     ]
    }
   ],
   "source": [
    "# plot histogram of uniform distribution with paramsdensity=True, bins=6\n",
    "plt.hist(uniform, density=True, bins=6)\n",
    "plt.ylabel('density')\n",
    "plt.xlabel('value')\n",
    "plt.show()"
   ]
  },
  {
   "cell_type": "markdown",
   "metadata": {
    "ExecuteTime": {
     "end_time": "2020-02-05T17:54:44.583762Z",
     "start_time": "2020-02-05T17:54:44.555162Z"
    }
   },
   "source": [
    "#### Check the mean of uniform data (using NumPy)"
   ]
  },
  {
   "cell_type": "code",
   "execution_count": null,
   "metadata": {},
   "outputs": [],
   "source": []
  },
  {
   "cell_type": "code",
   "execution_count": null,
   "metadata": {},
   "outputs": [],
   "source": []
  },
  {
   "cell_type": "markdown",
   "metadata": {
    "ExecuteTime": {
     "end_time": "2020-02-05T17:54:44.758510Z",
     "start_time": "2020-02-05T17:54:44.752087Z"
    }
   },
   "source": [
    "#### Generate 100000 numbers from exponential distribution with parameter beta = 0.5\n",
    "\n",
    "The exponential distribution is sometimes parametrized in terms of the scale parameter **β = 1/λ**. We were reading about the **λ** in the previous reading."
   ]
  },
  {
   "cell_type": "code",
   "execution_count": null,
   "metadata": {},
   "outputs": [],
   "source": []
  },
  {
   "cell_type": "code",
   "execution_count": null,
   "metadata": {},
   "outputs": [],
   "source": []
  },
  {
   "cell_type": "markdown",
   "metadata": {
    "ExecuteTime": {
     "end_time": "2020-02-05T17:54:45.134091Z",
     "start_time": "2020-02-05T17:54:44.956351Z"
    }
   },
   "source": [
    "#### Plot histogram of exponential distribution with params `density=True`, `bins=100`\n"
   ]
  },
  {
   "cell_type": "code",
   "execution_count": null,
   "metadata": {},
   "outputs": [],
   "source": []
  },
  {
   "cell_type": "code",
   "execution_count": null,
   "metadata": {},
   "outputs": [],
   "source": []
  },
  {
   "cell_type": "markdown",
   "metadata": {
    "ExecuteTime": {
     "end_time": "2020-02-05T17:54:45.187080Z",
     "start_time": "2020-02-05T17:54:45.171406Z"
    }
   },
   "source": [
    "#### Check the mean of exponential data"
   ]
  },
  {
   "cell_type": "code",
   "execution_count": null,
   "metadata": {},
   "outputs": [],
   "source": []
  },
  {
   "cell_type": "code",
   "execution_count": null,
   "metadata": {},
   "outputs": [],
   "source": []
  }
 ],
 "metadata": {
  "kernelspec": {
   "display_name": "Python 3",
   "language": "python",
   "name": "python3"
  },
  "language_info": {
   "codemirror_mode": {
    "name": "ipython",
    "version": 3
   },
   "file_extension": ".py",
   "mimetype": "text/x-python",
   "name": "python",
   "nbconvert_exporter": "python",
   "pygments_lexer": "ipython3",
   "version": "3.8.8"
  },
  "toc": {
   "base_numbering": 1,
   "nav_menu": {},
   "number_sections": true,
   "sideBar": true,
   "skip_h1_title": false,
   "title_cell": "Table of Contents",
   "title_sidebar": "Contents",
   "toc_cell": false,
   "toc_position": {},
   "toc_section_display": true,
   "toc_window_display": false
  },
  "varInspector": {
   "cols": {
    "lenName": 16,
    "lenType": 16,
    "lenVar": 40
   },
   "kernels_config": {
    "python": {
     "delete_cmd_postfix": "",
     "delete_cmd_prefix": "del ",
     "library": "var_list.py",
     "varRefreshCmd": "print(var_dic_list())"
    },
    "r": {
     "delete_cmd_postfix": ") ",
     "delete_cmd_prefix": "rm(",
     "library": "var_list.r",
     "varRefreshCmd": "cat(var_dic_list()) "
    }
   },
   "types_to_exclude": [
    "module",
    "function",
    "builtin_function_or_method",
    "instance",
    "_Feature"
   ],
   "window_display": false
  }
 },
 "nbformat": 4,
 "nbformat_minor": 4
}
