{
 "cells": [
  {
   "cell_type": "code",
   "execution_count": 59,
   "metadata": {
    "ExecuteTime": {
     "end_time": "2020-02-05T17:54:42.062131Z",
     "start_time": "2020-02-05T17:54:41.626763Z"
    }
   },
   "outputs": [],
   "source": [
    "# import numpy\n",
    "import numpy as np\n",
    "\n",
    "# import matplotlib.pyplot\n",
    "import matplotlib.pyplot as plt\n",
    "\n",
    "# import Counter\n",
    "from collections import Counter\n",
    "\n",
    "# use style 'fivethirtyeight' (optional)\n",
    "plt.style.use('fivethirtyeight')"
   ]
  },
  {
   "cell_type": "markdown",
   "metadata": {
    "ExecuteTime": {
     "end_time": "2020-02-05T17:54:42.113199Z",
     "start_time": "2020-02-05T17:54:42.101587Z"
    }
   },
   "source": [
    "#### Create function `perform_bernoulli_trial` with parameters n and p\n",
    "\n",
    "PARAMS:\n",
    "- n (int) - number of trials\n",
    "- p (float) - probability of success\n",
    "\n",
    "RETURNS:\n",
    "- n_success (int) - number of successes\n",
    "\n"
   ]
  },
  {
   "cell_type": "code",
   "execution_count": 60,
   "metadata": {},
   "outputs": [],
   "source": [
    "def perform_bernoulli_trial(n, p):\n",
    "    \n",
    "    # Initialize to zero n success which counts Bernoulli trial successes\n",
    "    n_success = 0\n",
    "    \n",
    "    # Execute trials ad store random number result\n",
    "    for i in range(n):\n",
    "        random_number = np.random.random()\n",
    "        \n",
    "        # If the random number is less than p, it's counted as a success\n",
    "        if random_number < p:\n",
    "            n_success += 1\n",
    "            \n",
    "    return n_success"
   ]
  },
  {
   "cell_type": "code",
   "execution_count": 61,
   "metadata": {},
   "outputs": [
    {
     "data": {
      "text/plain": [
       "6"
      ]
     },
     "execution_count": 61,
     "metadata": {},
     "output_type": "execute_result"
    }
   ],
   "source": [
    "perform_bernoulli_trial(10, 0.5)"
   ]
  },
  {
   "cell_type": "markdown",
   "metadata": {
    "ExecuteTime": {
     "end_time": "2020-02-05T17:54:42.610756Z",
     "start_time": "2020-02-05T17:54:42.602316Z"
    }
   },
   "source": [
    "#### Use function `perform_bernoulli_trial` with inputs n = 100, p = 0.5"
   ]
  },
  {
   "cell_type": "code",
   "execution_count": 62,
   "metadata": {},
   "outputs": [
    {
     "data": {
      "text/plain": [
       "50"
      ]
     },
     "execution_count": 62,
     "metadata": {},
     "output_type": "execute_result"
    }
   ],
   "source": [
    "perform_bernoulli_trial(100, 0.5)"
   ]
  },
  {
   "cell_type": "code",
   "execution_count": null,
   "metadata": {},
   "outputs": [],
   "source": []
  },
  {
   "cell_type": "markdown",
   "metadata": {
    "ExecuteTime": {
     "end_time": "2020-02-05T17:54:43.020097Z",
     "start_time": "2020-02-05T17:54:42.962800Z"
    }
   },
   "source": [
    "#### Call function _perform_bernoulli_trial_ 1000-times with same parameters as before and store the result in `successes_list`"
   ]
  },
  {
   "cell_type": "code",
   "execution_count": 63,
   "metadata": {},
   "outputs": [
    {
     "name": "stdout",
     "output_type": "stream",
     "text": [
      "[59, 60, 41, 54, 50, 45, 53, 53, 45, 62, 52, 52, 48, 51, 44, 55, 44, 48, 52, 40, 50, 43, 49, 46, 41, 49, 51, 58, 38, 49, 56, 57, 40, 42, 49, 45, 50, 47, 42, 48, 43, 45, 51, 53, 52, 49, 46, 46, 52, 58, 54, 42, 52, 50, 43, 50, 51, 49, 47, 55, 37, 57, 53, 46, 47, 45, 42, 55, 46, 45, 55, 51, 47, 54, 37, 52, 51, 50, 53, 48, 48, 46, 51, 50, 55, 39, 48, 61, 47, 49, 47, 51, 47, 56, 49, 51, 45, 59, 52, 47, 47, 48, 46, 37, 41, 49, 48, 50, 49, 46, 53, 47, 45, 56, 53, 48, 52, 56, 43, 48, 46, 46, 53, 48, 49, 51, 55, 57, 49, 45, 48, 51, 49, 50, 48, 51, 54, 45, 44, 49, 47, 54, 42, 46, 52, 57, 47, 47, 52, 54, 48, 54, 50, 50, 58, 48, 52, 56, 48, 48, 47, 49, 50, 41, 47, 54, 46, 48, 42, 53, 50, 35, 46, 60, 59, 42, 52, 48, 47, 54, 45, 54, 45, 56, 43, 43, 46, 54, 53, 49, 65, 47, 42, 45, 53, 50, 51, 56, 48, 50, 50, 46, 58, 51, 44, 59, 51, 58, 47, 49, 47, 41, 63, 44, 51, 54, 53, 48, 47, 48, 55, 48, 55, 43, 55, 48, 50, 48, 50, 44, 59, 45, 50, 55, 50, 55, 52, 49, 49, 49, 55, 48, 45, 43, 45, 46, 40, 52, 49, 47, 50, 50, 45, 50, 51, 52, 55, 49, 47, 47, 39, 59, 44, 53, 39, 54, 50, 60, 54, 55, 41, 48, 47, 44, 48, 55, 45, 50, 44, 54, 52, 51, 44, 50, 43, 50, 51, 52, 50, 56, 43, 52, 51, 41, 52, 49, 48, 50, 47, 50, 45, 40, 44, 51, 43, 47, 51, 50, 53, 56, 51, 53, 60, 55, 51, 49, 53, 50, 54, 42, 44, 47, 58, 45, 49, 50, 48, 52, 48, 49, 48, 55, 54, 53, 55, 53, 55, 51, 48, 52, 52, 54, 52, 43, 48, 44, 42, 53, 51, 48, 55, 52, 54, 54, 57, 54, 53, 52, 52, 51, 51, 56, 55, 56, 38, 53, 47, 54, 52, 47, 54, 54, 49, 58, 50, 55, 47, 46, 58, 53, 53, 51, 60, 47, 40, 53, 56, 56, 40, 61, 51, 46, 49, 51, 55, 46, 46, 48, 52, 43, 48, 47, 51, 49, 53, 46, 46, 48, 57, 57, 56, 46, 61, 51, 47, 49, 43, 55, 48, 49, 52, 46, 45, 44, 46, 51, 49, 56, 54, 51, 56, 56, 45, 51, 45, 51, 49, 49, 59, 55, 45, 48, 51, 49, 46, 45, 44, 47, 51, 56, 45, 48, 56, 56, 49, 45, 46, 50, 50, 54, 52, 49, 53, 56, 46, 55, 55, 51, 41, 45, 52, 53, 47, 45, 55, 53, 43, 55, 50, 45, 45, 47, 54, 46, 62, 43, 49, 51, 50, 51, 48, 56, 44, 46, 51, 56, 53, 52, 54, 55, 50, 50, 54, 49, 45, 47, 48, 44, 48, 51, 50, 49, 49, 45, 51, 45, 57, 49, 54, 45, 52, 53, 49, 58, 47, 58, 46, 50, 49, 50, 47, 41, 56, 42, 47, 49, 48, 47, 53, 52, 51, 53, 50, 53, 46, 43, 60, 53, 42, 54, 45, 62, 53, 51, 57, 50, 43, 51, 58, 54, 48, 48, 50, 39, 54, 54, 47, 68, 57, 53, 57, 47, 52, 49, 55, 57, 48, 48, 51, 50, 58, 54, 47, 52, 44, 51, 53, 56, 54, 44, 55, 56, 51, 57, 53, 51, 52, 53, 56, 48, 50, 50, 51, 52, 47, 51, 53, 44, 45, 49, 44, 57, 43, 48, 54, 55, 49, 62, 47, 49, 50, 51, 50, 54, 57, 48, 56, 56, 50, 44, 45, 43, 47, 48, 53, 56, 57, 55, 48, 48, 51, 52, 52, 43, 55, 48, 50, 48, 47, 48, 45, 51, 51, 47, 45, 52, 51, 40, 51, 51, 51, 60, 43, 51, 56, 49, 51, 52, 53, 52, 52, 53, 55, 50, 50, 50, 50, 41, 53, 50, 48, 44, 57, 43, 47, 51, 33, 52, 37, 45, 48, 54, 53, 52, 55, 51, 54, 62, 43, 48, 52, 53, 47, 48, 51, 48, 46, 57, 54, 51, 49, 51, 54, 50, 55, 46, 50, 48, 46, 36, 54, 50, 41, 47, 46, 50, 52, 53, 45, 45, 48, 53, 54, 43, 54, 47, 47, 46, 59, 41, 62, 35, 45, 53, 48, 46, 46, 49, 58, 53, 48, 59, 47, 45, 50, 43, 49, 44, 51, 51, 54, 49, 52, 56, 62, 49, 53, 45, 50, 57, 47, 48, 45, 52, 52, 51, 47, 49, 62, 46, 55, 46, 49, 54, 41, 46, 44, 56, 56, 52, 40, 52, 51, 47, 55, 52, 59, 45, 47, 51, 47, 47, 56, 48, 54, 49, 41, 47, 53, 49, 47, 51, 50, 45, 49, 41, 50, 54, 49, 55, 48, 49, 58, 48, 56, 54, 56, 51, 45, 54, 50, 44, 57, 50, 51, 45, 51, 50, 50, 54, 46, 53, 56, 58, 53, 43, 50, 38, 45, 49, 37, 55, 50, 57, 46, 46, 44, 60, 52, 52, 50, 51, 53, 47, 63, 50, 45, 49, 52, 46, 51, 56, 42, 52, 51, 39, 49, 57, 45, 39, 48, 48, 40, 56, 49, 59, 50, 46, 49, 54, 44, 57, 46, 48, 52, 50, 51, 49, 52, 45, 58, 52, 57, 50, 54, 47, 53, 41, 44, 50, 51, 49, 56, 56, 50, 50, 56, 45, 44, 53, 49, 60, 49, 54, 42, 65, 48, 50, 51, 49, 56, 53, 50, 47, 53, 61, 39, 51, 53, 50, 53, 47, 50, 55, 53, 46, 54, 58, 44, 43, 54, 56, 50, 54, 43, 53, 55, 52, 50, 54, 55, 43, 48, 49, 59, 53, 51, 49, 52, 44, 51, 59, 55, 47, 43, 46, 54, 46, 54, 42, 53, 56, 47, 50, 53, 45, 39, 55, 55, 42, 53, 48, 57, 54, 51, 51, 53, 54, 53, 62]\n"
     ]
    }
   ],
   "source": [
    "# Initialize list\n",
    "successes_list = []\n",
    "\n",
    "# Perform trial 1000 times\n",
    "for i in range(1000):\n",
    "    \n",
    "    # Calculate result and append to successes_list\n",
    "    successes_list.append(perform_bernoulli_trial(100, 0.5))\n",
    "\n",
    "print(successes_list)"
   ]
  },
  {
   "cell_type": "code",
   "execution_count": null,
   "metadata": {},
   "outputs": [],
   "source": []
  },
  {
   "cell_type": "markdown",
   "metadata": {
    "ExecuteTime": {
     "end_time": "2020-02-05T17:54:43.296477Z",
     "start_time": "2020-02-05T17:54:43.289959Z"
    }
   },
   "source": [
    "#### Count occurence of each number from `successes_list` using Counter and store the result in `count_occurence`\n",
    "\n",
    "You can find for more info about Counter [**here**](https://docs.python.org/2/library/collections.html#collections.Counter)."
   ]
  },
  {
   "cell_type": "code",
   "execution_count": 90,
   "metadata": {},
   "outputs": [
    {
     "name": "stdout",
     "output_type": "stream",
     "text": [
      "Counter({51: 89, 50: 87, 48: 77, 49: 74, 53: 69, 47: 69, 52: 64, 54: 63, 45: 57, 46: 51, 55: 48, 56: 46, 44: 32, 43: 31, 57: 25, 58: 17, 41: 16, 42: 16, 59: 13, 60: 9, 62: 9, 40: 9, 39: 8, 37: 5, 61: 4, 38: 3, 35: 2, 65: 2, 63: 2, 68: 1, 33: 1, 36: 1})\n"
     ]
    }
   ],
   "source": [
    "count_occurrence = Counter(successes_list)\n",
    "print(count_occurrence)"
   ]
  },
  {
   "cell_type": "code",
   "execution_count": null,
   "metadata": {},
   "outputs": [],
   "source": []
  },
  {
   "cell_type": "markdown",
   "metadata": {
    "ExecuteTime": {
     "end_time": "2020-02-05T17:54:43.571225Z",
     "start_time": "2020-02-05T17:54:43.568147Z"
    }
   },
   "source": [
    "#### Count the probability for each number from `count_occurence` and store the result in `probas`\n"
   ]
  },
  {
   "cell_type": "code",
   "execution_count": 91,
   "metadata": {},
   "outputs": [
    {
     "name": "stdout",
     "output_type": "stream",
     "text": [
      "[0.013, 0.009, 0.016, 0.063, 0.087, 0.057, 0.069, 0.009, 0.064, 0.077, 0.089, 0.032, 0.048, 0.009, 0.031, 0.074, 0.051, 0.017, 0.003, 0.046, 0.025, 0.016, 0.069, 0.005, 0.008, 0.004, 0.002, 0.002, 0.002, 0.001, 0.001, 0.001]\n"
     ]
    }
   ],
   "source": [
    "# Initialize list for probabilities for each count\n",
    "probas = []\n",
    "\n",
    "# Count probability for each count \n",
    "for count in count_occurrence.values():\n",
    "    probas.append(count / 1000)\n",
    "\n",
    "print(probas)"
   ]
  },
  {
   "cell_type": "code",
   "execution_count": null,
   "metadata": {},
   "outputs": [],
   "source": []
  },
  {
   "cell_type": "markdown",
   "metadata": {},
   "source": [
    "Below you have some information about how to do plots in Python. We will be covering all of this during the bootcamp. But you can find these basics here so we can visualize the distributions."
   ]
  },
  {
   "cell_type": "code",
   "execution_count": 92,
   "metadata": {
    "ExecuteTime": {
     "end_time": "2020-02-05T17:54:44.056628Z",
     "start_time": "2020-02-05T17:54:43.850076Z"
    }
   },
   "outputs": [
    {
     "data": {
      "image/png": "[encoded data removed]",
      "text/plain": [
       "<Figure size 432x288 with 1 Axes>"
      ]
     },
     "metadata": {},
     "output_type": "display_data"
    }
   ],
   "source": [
    "# plot distribution (PMF) of 'success_list'\n",
    "plt.scatter(x=count_occurrence.keys(), y=probas)\n",
    "plt.xlabel('number of successes out of 100')\n",
    "plt.ylabel('probability')\n",
    "# Show the plot\n",
    "plt.show()"
   ]
  },
  {
   "cell_type": "markdown",
   "metadata": {
    "ExecuteTime": {
     "end_time": "2020-02-05T17:54:44.112264Z",
     "start_time": "2020-02-05T17:54:44.096570Z"
    }
   },
   "source": [
    "#### Generate 100000 numbers from uniform distribution with parameters a = 1, b = 6\n"
   ]
  },
  {
   "cell_type": "code",
   "execution_count": 93,
   "metadata": {},
   "outputs": [],
   "source": [
    "uniform = np.random.uniform(low=0, high=6, size = 100000)"
   ]
  },
  {
   "cell_type": "code",
   "execution_count": null,
   "metadata": {},
   "outputs": [],
   "source": []
  },
  {
   "cell_type": "code",
   "execution_count": 94,
   "metadata": {
    "ExecuteTime": {
     "end_time": "2020-02-05T17:54:44.515039Z",
     "start_time": "2020-02-05T17:54:44.330746Z"
    },
    "tags": []
   },
   "outputs": [
    {
     "data": {
      "image/png": "[encoded data removed]",
      "text/plain": [
       "<Figure size 432x288 with 1 Axes>"
      ]
     },
     "metadata": {},
     "output_type": "display_data"
    }
   ],
   "source": [
    "# plot histogram of uniform distribution with params density=True, bins=6\n",
    "plt.hist(uniform, density=True, bins=6)\n",
    "plt.ylabel('density')\n",
    "plt.xlabel('value')\n",
    "plt.show()"
   ]
  },
  {
   "cell_type": "markdown",
   "metadata": {
    "ExecuteTime": {
     "end_time": "2020-02-05T17:54:44.583762Z",
     "start_time": "2020-02-05T17:54:44.555162Z"
    }
   },
   "source": [
    "#### Check the mean of uniform data (using NumPy)"
   ]
  },
  {
   "cell_type": "code",
   "execution_count": 95,
   "metadata": {},
   "outputs": [
    {
     "data": {
      "text/plain": [
       "3.008556333758145"
      ]
     },
     "execution_count": 95,
     "metadata": {},
     "output_type": "execute_result"
    }
   ],
   "source": [
    "np.mean(uniform)"
   ]
  },
  {
   "cell_type": "code",
   "execution_count": null,
   "metadata": {},
   "outputs": [],
   "source": []
  },
  {
   "cell_type": "markdown",
   "metadata": {
    "ExecuteTime": {
     "end_time": "2020-02-05T17:54:44.758510Z",
     "start_time": "2020-02-05T17:54:44.752087Z"
    }
   },
   "source": [
    "#### Generate 100000 numbers from exponential distribution with parameter beta = 0.5\n",
    "\n",
    "The exponential distribution is sometimes parametrized in terms of the scale parameter **β = 1/λ**. We were reading about the **λ** in the previous reading."
   ]
  },
  {
   "cell_type": "code",
   "execution_count": 96,
   "metadata": {},
   "outputs": [],
   "source": [
    "exponential = np.random.exponential(scale = 0.5, size = 100000)"
   ]
  },
  {
   "cell_type": "code",
   "execution_count": null,
   "metadata": {},
   "outputs": [],
   "source": []
  },
  {
   "cell_type": "markdown",
   "metadata": {
    "ExecuteTime": {
     "end_time": "2020-02-05T17:54:45.134091Z",
     "start_time": "2020-02-05T17:54:44.956351Z"
    }
   },
   "source": [
    "#### Plot histogram of exponential distribution with params `density=True`, `bins=100`\n"
   ]
  },
  {
   "cell_type": "code",
   "execution_count": 97,
   "metadata": {},
   "outputs": [
    {
     "data": {
      "image/png": "[encoded data removed]",
      "text/plain": [
       "<Figure size 432x288 with 1 Axes>"
      ]
     },
     "metadata": {},
     "output_type": "display_data"
    }
   ],
   "source": [
    "# plot histogram of exponential distribution with params density=True, bins=100\n",
    "plt.hist(exponential, density=True, bins=100)\n",
    "plt.ylabel('density')\n",
    "plt.xlabel('value')\n",
    "plt.show()"
   ]
  },
  {
   "cell_type": "code",
   "execution_count": null,
   "metadata": {},
   "outputs": [],
   "source": []
  },
  {
   "cell_type": "markdown",
   "metadata": {
    "ExecuteTime": {
     "end_time": "2020-02-05T17:54:45.187080Z",
     "start_time": "2020-02-05T17:54:45.171406Z"
    }
   },
   "source": [
    "#### Check the mean of exponential data"
   ]
  },
  {
   "cell_type": "code",
   "execution_count": 98,
   "metadata": {},
   "outputs": [
    {
     "data": {
      "text/plain": [
       "0.5016229105253159"
      ]
     },
     "execution_count": 98,
     "metadata": {},
     "output_type": "execute_result"
    }
   ],
   "source": [
    "np.mean(exponential)"
   ]
  },
  {
   "cell_type": "code",
   "execution_count": null,
   "metadata": {},
   "outputs": [],
   "source": []
  }
 ],
 "metadata": {
  "kernelspec": {
   "display_name": "Python 3",
   "language": "python",
   "name": "python3"
  },
  "language_info": {
   "codemirror_mode": {
    "name": "ipython",
    "version": 3
   },
   "file_extension": ".py",
   "mimetype": "text/x-python",
   "name": "python",
   "nbconvert_exporter": "python",
   "pygments_lexer": "ipython3",
   "version": "3.8.8"
  },
  "toc": {
   "base_numbering": 1,
   "nav_menu": {},
   "number_sections": true,
   "sideBar": true,
   "skip_h1_title": false,
   "title_cell": "Table of Contents",
   "title_sidebar": "Contents",
   "toc_cell": false,
   "toc_position": {},
   "toc_section_display": true,
   "toc_window_display": false
  },
  "varInspector": {
   "cols": {
    "lenName": 16,
    "lenType": 16,
    "lenVar": 40
   },
   "kernels_config": {
    "python": {
     "delete_cmd_postfix": "",
     "delete_cmd_prefix": "del ",
     "library": "var_list.py",
     "varRefreshCmd": "print(var_dic_list())"
    },
    "r": {
     "delete_cmd_postfix": ") ",
     "delete_cmd_prefix": "rm(",
     "library": "var_list.r",
     "varRefreshCmd": "cat(var_dic_list()) "
    }
   },
   "types_to_exclude": [
    "module",
    "function",
    "builtin_function_or_method",
    "instance",
    "_Feature"
   ],
   "window_display": false
  }
 },
 "nbformat": 4,
 "nbformat_minor": 4
}
