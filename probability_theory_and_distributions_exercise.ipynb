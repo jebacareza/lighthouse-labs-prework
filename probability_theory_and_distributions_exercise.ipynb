{
 "cells": [
  {
   "cell_type": "code",
   "execution_count": 3,
   "metadata": {
    "ExecuteTime": {
     "end_time": "2020-02-05T17:54:42.062131Z",
     "start_time": "2020-02-05T17:54:41.626763Z"
    }
   },
   "outputs": [],
   "source": [
    "# import numpy\n",
    "import numpy as np\n",
    "\n",
    "# import matplotlib.pyplot\n",
    "import matplotlib.pyplot as plt\n",
    "\n",
    "# import Counter\n",
    "from collections import Counter\n",
    "\n",
    "# use style 'fivethirtyeight' (optional)\n",
    "plt.style.use('fivethirtyeight')"
   ]
  },
  {
   "cell_type": "markdown",
   "metadata": {
    "ExecuteTime": {
     "end_time": "2020-02-05T17:54:42.113199Z",
     "start_time": "2020-02-05T17:54:42.101587Z"
    }
   },
   "source": [
    "#### Create function `perform_bernoulli_trial` with parameters n and p\n",
    "\n",
    "PARAMS:\n",
    "- n (int) - number of trials\n",
    "- p (float) - probability of success\n",
    "\n",
    "RETURNS:\n",
    "- n_success (int) - number of successes\n",
    "\n"
   ]
  },
  {
   "cell_type": "code",
   "execution_count": 8,
   "metadata": {},
   "outputs": [],
   "source": [
    "def perform_bernoulli_trial(n, p):\n",
    "    \n",
    "    # Initialize to zero n success which counts Bernoulli trial successes\n",
    "    n_success = 0\n",
    "    \n",
    "    # Execute trials ad store random number result\n",
    "    for i in range(n):\n",
    "        random_number = np.random.random()\n",
    "        \n",
    "        # If the random number is less than p, it's counted as a success\n",
    "        if random_number < p:\n",
    "            n_success += 1\n",
    "            \n",
    "    return n_success"
   ]
  },
  {
   "cell_type": "code",
   "execution_count": 9,
   "metadata": {},
   "outputs": [
    {
     "data": {
      "text/plain": [
       "5"
      ]
     },
     "execution_count": 9,
     "metadata": {},
     "output_type": "execute_result"
    }
   ],
   "source": [
    "perform_bernoulli_trial(10, 0.5)"
   ]
  },
  {
   "cell_type": "markdown",
   "metadata": {
    "ExecuteTime": {
     "end_time": "2020-02-05T17:54:42.610756Z",
     "start_time": "2020-02-05T17:54:42.602316Z"
    }
   },
   "source": [
    "#### Use function `perform_bernoulli_trial` with inputs n = 100, p = 0.5"
   ]
  },
  {
   "cell_type": "code",
   "execution_count": 33,
   "metadata": {},
   "outputs": [
    {
     "data": {
      "text/plain": [
       "51"
      ]
     },
     "execution_count": 33,
     "metadata": {},
     "output_type": "execute_result"
    }
   ],
   "source": [
    "perform_bernoulli_trial(100, 0.5)"
   ]
  },
  {
   "cell_type": "code",
   "execution_count": null,
   "metadata": {},
   "outputs": [],
   "source": []
  },
  {
   "cell_type": "markdown",
   "metadata": {
    "ExecuteTime": {
     "end_time": "2020-02-05T17:54:43.020097Z",
     "start_time": "2020-02-05T17:54:42.962800Z"
    }
   },
   "source": [
    "#### Call function _perform_bernoulli_trial_ 1000-times with same parameters as before and store the result in `successes_list`"
   ]
  },
  {
   "cell_type": "code",
   "execution_count": 37,
   "metadata": {},
   "outputs": [
    {
     "name": "stdout",
     "output_type": "stream",
     "text": [
      "[49, 51, 47, 51, 57, 47, 58, 49, 38, 43, 49, 45, 58, 61, 48, 51, 57, 58, 57, 61, 49, 50, 46, 46, 48, 47, 49, 46, 43, 56, 48, 55, 57, 44, 50, 57, 50, 51, 55, 48, 53, 54, 49, 52, 55, 56, 56, 42, 50, 55, 44, 57, 52, 56, 56, 52, 52, 40, 44, 58, 56, 41, 49, 48, 50, 50, 51, 45, 50, 57, 51, 41, 54, 55, 49, 50, 50, 51, 44, 56, 49, 49, 50, 51, 51, 51, 49, 59, 45, 49, 49, 50, 56, 57, 44, 47, 49, 60, 48, 48, 47, 54, 48, 43, 41, 49, 50, 41, 45, 48, 55, 45, 53, 53, 55, 50, 53, 59, 58, 45, 52, 52, 51, 47, 59, 52, 46, 46, 58, 55, 49, 46, 60, 46, 55, 43, 54, 50, 56, 55, 54, 44, 53, 52, 44, 50, 48, 53, 52, 43, 48, 51, 38, 53, 51, 48, 46, 44, 56, 54, 49, 45, 56, 45, 55, 51, 55, 51, 46, 54, 49, 40, 44, 60, 48, 53, 49, 55, 56, 50, 53, 44, 42, 38, 37, 52, 54, 43, 44, 44, 46, 48, 46, 50, 48, 43, 46, 43, 51, 54, 53, 48, 50, 48, 48, 57, 57, 55, 55, 57, 55, 45, 46, 55, 42, 54, 50, 37, 45, 49, 48, 52, 53, 49, 51, 52, 53, 44, 45, 43, 48, 59, 47, 56, 45, 55, 51, 53, 42, 47, 53, 49, 48, 42, 52, 56, 61, 53, 39, 57, 58, 49, 51, 38, 48, 44, 54, 55, 54, 43, 47, 48, 59, 56, 43, 41, 48, 45, 48, 50, 45, 55, 49, 55, 51, 57, 51, 50, 47, 47, 48, 42, 54, 50, 44, 46, 59, 63, 58, 42, 46, 50, 50, 48, 58, 49, 43, 55, 49, 42, 55, 54, 52, 39, 46, 50, 58, 43, 56, 47, 51, 46, 47, 57, 47, 47, 51, 53, 58, 52, 48, 51, 44, 47, 52, 55, 39, 50, 55, 42, 53, 52, 55, 56, 39, 47, 47, 59, 56, 52, 50, 57, 62, 54, 50, 48, 34, 47, 48, 46, 58, 51, 50, 39, 51, 54, 53, 44, 48, 50, 50, 48, 48, 49, 43, 45, 51, 54, 57, 48, 58, 47, 60, 46, 51, 51, 50, 47, 47, 53, 49, 45, 38, 53, 43, 53, 55, 45, 42, 61, 43, 47, 57, 49, 44, 47, 50, 51, 55, 46, 47, 49, 47, 49, 53, 58, 46, 46, 43, 49, 57, 43, 49, 49, 48, 49, 51, 49, 56, 57, 56, 50, 56, 42, 55, 46, 46, 53, 42, 52, 44, 53, 57, 49, 47, 43, 55, 50, 53, 49, 43, 53, 52, 48, 46, 49, 58, 53, 58, 49, 44, 48, 51, 60, 49, 50, 45, 52, 57, 55, 43, 47, 51, 51, 53, 47, 43, 44, 45, 49, 49, 54, 45, 52, 46, 54, 45, 49, 44, 53, 52, 61, 42, 58, 42, 54, 49, 50, 46, 50, 51, 40, 49, 41, 55, 48, 46, 47, 45, 50, 54, 54, 51, 52, 48, 53, 54, 43, 57, 45, 53, 59, 50, 51, 52, 40, 46, 41, 48, 50, 48, 53, 53, 46, 53, 52, 49, 52, 61, 50, 53, 34, 48, 54, 52, 46, 59, 49, 51, 45, 47, 44, 56, 42, 51, 49, 53, 52, 44, 50, 50, 41, 56, 48, 50, 45, 49, 46, 46, 51, 51, 50, 45, 52, 47, 52, 44, 45, 43, 50, 57, 54, 49, 52, 54, 55, 53, 50, 53, 43, 54, 50, 52, 53, 59, 44, 43, 54, 56, 42, 57, 53, 47, 52, 47, 59, 50, 47, 46, 43, 49, 53, 45, 52, 48, 58, 45, 53, 41, 47, 43, 52, 48, 48, 50, 47, 49, 54, 46, 56, 51, 45, 53, 56, 44, 51, 55, 50, 50, 48, 52, 49, 57, 43, 56, 49, 49, 52, 57, 51, 43, 49, 48, 46, 53, 51, 49, 52, 50, 51, 44, 50, 47, 59, 50, 43, 56, 49, 41, 52, 50, 49, 51, 54, 55, 54, 43, 46, 55, 57, 50, 47, 50, 62, 48, 52, 50, 53, 48, 59, 58, 50, 44, 55, 46, 49, 46, 39, 51, 53, 61, 55, 47, 51, 50, 44, 50, 50, 54, 56, 48, 47, 42, 48, 47, 49, 61, 50, 49, 50, 51, 45, 49, 49, 54, 51, 50, 39, 56, 54, 46, 46, 65, 46, 47, 56, 51, 50, 52, 51, 48, 42, 45, 52, 55, 51, 51, 51, 43, 50, 50, 48, 49, 47, 50, 51, 50, 45, 50, 50, 50, 57, 49, 43, 43, 50, 52, 45, 50, 42, 39, 46, 45, 49, 51, 50, 41, 54, 48, 43, 52, 47, 45, 49, 47, 47, 50, 56, 42, 53, 50, 48, 56, 51, 53, 48, 47, 50, 51, 47, 51, 60, 49, 50, 56, 58, 55, 45, 53, 43, 44, 45, 53, 50, 52, 50, 45, 44, 63, 46, 50, 47, 61, 54, 53, 53, 49, 53, 56, 55, 40, 57, 50, 49, 50, 54, 55, 48, 52, 50, 54, 49, 47, 52, 50, 56, 43, 47, 45, 48, 46, 48, 58, 46, 42, 48, 55, 42, 53, 51, 52, 57, 52, 51, 48, 49, 49, 56, 46, 48, 44, 51, 46, 47, 55, 48, 48, 47, 45, 48, 58, 47, 57, 44, 44, 45, 54, 50, 48, 41, 52, 48, 45, 51, 51, 54, 44, 49, 50, 53, 47, 45, 48, 51, 52, 48, 53, 43, 50, 53, 57, 49, 47, 53, 57, 50, 47, 48, 59, 47, 44, 56, 51, 50, 56, 57, 50, 51, 49, 53, 52, 43, 56, 56, 47, 49, 45, 48, 51, 42, 54, 60, 48, 47, 48, 46, 50, 55, 52, 57, 46, 49, 45, 46, 52, 50, 59, 41, 48, 57, 44, 43, 51, 58, 48, 50, 57, 46, 57, 46, 49, 43, 52, 58, 57, 50, 53, 56, 52, 46, 55, 50, 49, 51, 57, 53, 51, 53, 51, 52, 49, 52, 54, 52, 54, 51, 54, 51, 53, 33, 49, 45, 47, 40, 52, 50, 45, 51, 49, 52]\n"
     ]
    }
   ],
   "source": [
    "# Initialize list\n",
    "successes_list = []\n",
    "\n",
    "# Perform trial 1000 times\n",
    "for i in range(1000):\n",
    "    \n",
    "    # Calculate result and append to successes_list\n",
    "    successes_list.append(perform_bernoulli_trial(100, 0.5))\n",
    "\n",
    "print(successes_list)\n"
   ]
  },
  {
   "cell_type": "code",
   "execution_count": null,
   "metadata": {},
   "outputs": [],
   "source": []
  },
  {
   "cell_type": "markdown",
   "metadata": {
    "ExecuteTime": {
     "end_time": "2020-02-05T17:54:43.296477Z",
     "start_time": "2020-02-05T17:54:43.289959Z"
    }
   },
   "source": [
    "#### Count occurence of each number from `successes_list` using Counter and store the result in `count_occurence`\n",
    "\n",
    "You can find for more info about Counter [**here**](https://docs.python.org/2/library/collections.html#collections.Counter)."
   ]
  },
  {
   "cell_type": "code",
   "execution_count": null,
   "metadata": {},
   "outputs": [],
   "source": []
  },
  {
   "cell_type": "code",
   "execution_count": null,
   "metadata": {},
   "outputs": [],
   "source": []
  },
  {
   "cell_type": "markdown",
   "metadata": {
    "ExecuteTime": {
     "end_time": "2020-02-05T17:54:43.571225Z",
     "start_time": "2020-02-05T17:54:43.568147Z"
    }
   },
   "source": [
    "#### Count the probability for each number from `count_occurence` and store the result in `probas`\n"
   ]
  },
  {
   "cell_type": "code",
   "execution_count": null,
   "metadata": {},
   "outputs": [],
   "source": []
  },
  {
   "cell_type": "code",
   "execution_count": null,
   "metadata": {},
   "outputs": [],
   "source": []
  },
  {
   "cell_type": "markdown",
   "metadata": {},
   "source": [
    "Below you have some information about how to do plots in Python. We will be covering all of this during the bootcamp. But you can find these basics here so we can visualize the distributions."
   ]
  },
  {
   "cell_type": "code",
   "execution_count": null,
   "metadata": {
    "ExecuteTime": {
     "end_time": "2020-02-05T17:54:44.056628Z",
     "start_time": "2020-02-05T17:54:43.850076Z"
    }
   },
   "outputs": [],
   "source": [
    "# plot distribution (PMF) of 'succes_list'\n",
    "plt.scatter(x=count_occurence.keys(), y=probas)\n",
    "plt.xlabel('number of succeess out of 100')\n",
    "plt.ylabel('probability')\n",
    "# Show the plot\n",
    "plt.show()"
   ]
  },
  {
   "cell_type": "markdown",
   "metadata": {
    "ExecuteTime": {
     "end_time": "2020-02-05T17:54:44.112264Z",
     "start_time": "2020-02-05T17:54:44.096570Z"
    }
   },
   "source": [
    "#### Generate 100000 numbers from uniform distribution with parameters a = 1, b = 6\n"
   ]
  },
  {
   "cell_type": "code",
   "execution_count": null,
   "metadata": {},
   "outputs": [],
   "source": []
  },
  {
   "cell_type": "code",
   "execution_count": null,
   "metadata": {},
   "outputs": [],
   "source": []
  },
  {
   "cell_type": "code",
   "execution_count": 3,
   "metadata": {
    "ExecuteTime": {
     "end_time": "2020-02-05T17:54:44.515039Z",
     "start_time": "2020-02-05T17:54:44.330746Z"
    },
    "collapsed": true,
    "jupyter": {
     "outputs_hidden": true
    }
   },
   "outputs": [
    {
     "ename": "NameError",
     "evalue": "name 'plt' is not defined",
     "output_type": "error",
     "traceback": [
      "\u001b[0;31m---------------------------------------------------------------------------\u001b[0m",
      "\u001b[0;31mNameError\u001b[0m                                 Traceback (most recent call last)",
      "\u001b[0;32m<ipython-input-3-96137867e4bb>\u001b[0m in \u001b[0;36m<module>\u001b[0;34m\u001b[0m\n\u001b[1;32m      1\u001b[0m \u001b[0;31m# plot histogram of uniform distribution with paramsdensity=True, bins=6\u001b[0m\u001b[0;34m\u001b[0m\u001b[0;34m\u001b[0m\u001b[0;34m\u001b[0m\u001b[0m\n\u001b[0;32m----> 2\u001b[0;31m \u001b[0mplt\u001b[0m\u001b[0;34m.\u001b[0m\u001b[0mhist\u001b[0m\u001b[0;34m(\u001b[0m\u001b[0muniform\u001b[0m\u001b[0;34m,\u001b[0m \u001b[0mdensity\u001b[0m\u001b[0;34m=\u001b[0m\u001b[0;32mTrue\u001b[0m\u001b[0;34m,\u001b[0m \u001b[0mbins\u001b[0m\u001b[0;34m=\u001b[0m\u001b[0;36m6\u001b[0m\u001b[0;34m)\u001b[0m\u001b[0;34m\u001b[0m\u001b[0;34m\u001b[0m\u001b[0m\n\u001b[0m\u001b[1;32m      3\u001b[0m \u001b[0mplt\u001b[0m\u001b[0;34m.\u001b[0m\u001b[0mylabel\u001b[0m\u001b[0;34m(\u001b[0m\u001b[0;34m'density'\u001b[0m\u001b[0;34m)\u001b[0m\u001b[0;34m\u001b[0m\u001b[0;34m\u001b[0m\u001b[0m\n\u001b[1;32m      4\u001b[0m \u001b[0mplt\u001b[0m\u001b[0;34m.\u001b[0m\u001b[0mxlabel\u001b[0m\u001b[0;34m(\u001b[0m\u001b[0;34m'value'\u001b[0m\u001b[0;34m)\u001b[0m\u001b[0;34m\u001b[0m\u001b[0;34m\u001b[0m\u001b[0m\n\u001b[1;32m      5\u001b[0m \u001b[0mplt\u001b[0m\u001b[0;34m.\u001b[0m\u001b[0mshow\u001b[0m\u001b[0;34m(\u001b[0m\u001b[0;34m)\u001b[0m\u001b[0;34m\u001b[0m\u001b[0;34m\u001b[0m\u001b[0m\n",
      "\u001b[0;31mNameError\u001b[0m: name 'plt' is not defined"
     ]
    }
   ],
   "source": [
    "# plot histogram of uniform distribution with paramsdensity=True, bins=6\n",
    "plt.hist(uniform, density=True, bins=6)\n",
    "plt.ylabel('density')\n",
    "plt.xlabel('value')\n",
    "plt.show()"
   ]
  },
  {
   "cell_type": "markdown",
   "metadata": {
    "ExecuteTime": {
     "end_time": "2020-02-05T17:54:44.583762Z",
     "start_time": "2020-02-05T17:54:44.555162Z"
    }
   },
   "source": [
    "#### Check the mean of uniform data (using NumPy)"
   ]
  },
  {
   "cell_type": "code",
   "execution_count": null,
   "metadata": {},
   "outputs": [],
   "source": []
  },
  {
   "cell_type": "code",
   "execution_count": null,
   "metadata": {},
   "outputs": [],
   "source": []
  },
  {
   "cell_type": "markdown",
   "metadata": {
    "ExecuteTime": {
     "end_time": "2020-02-05T17:54:44.758510Z",
     "start_time": "2020-02-05T17:54:44.752087Z"
    }
   },
   "source": [
    "#### Generate 100000 numbers from exponential distribution with parameter beta = 0.5\n",
    "\n",
    "The exponential distribution is sometimes parametrized in terms of the scale parameter **β = 1/λ**. We were reading about the **λ** in the previous reading."
   ]
  },
  {
   "cell_type": "code",
   "execution_count": null,
   "metadata": {},
   "outputs": [],
   "source": []
  },
  {
   "cell_type": "code",
   "execution_count": null,
   "metadata": {},
   "outputs": [],
   "source": []
  },
  {
   "cell_type": "markdown",
   "metadata": {
    "ExecuteTime": {
     "end_time": "2020-02-05T17:54:45.134091Z",
     "start_time": "2020-02-05T17:54:44.956351Z"
    }
   },
   "source": [
    "#### Plot histogram of exponential distribution with params `density=True`, `bins=100`\n"
   ]
  },
  {
   "cell_type": "code",
   "execution_count": null,
   "metadata": {},
   "outputs": [],
   "source": []
  },
  {
   "cell_type": "code",
   "execution_count": null,
   "metadata": {},
   "outputs": [],
   "source": []
  },
  {
   "cell_type": "markdown",
   "metadata": {
    "ExecuteTime": {
     "end_time": "2020-02-05T17:54:45.187080Z",
     "start_time": "2020-02-05T17:54:45.171406Z"
    }
   },
   "source": [
    "#### Check the mean of exponential data"
   ]
  },
  {
   "cell_type": "code",
   "execution_count": null,
   "metadata": {},
   "outputs": [],
   "source": []
  },
  {
   "cell_type": "code",
   "execution_count": null,
   "metadata": {},
   "outputs": [],
   "source": []
  }
 ],
 "metadata": {
  "kernelspec": {
   "display_name": "Python 3",
   "language": "python",
   "name": "python3"
  },
  "language_info": {
   "codemirror_mode": {
    "name": "ipython",
    "version": 3
   },
   "file_extension": ".py",
   "mimetype": "text/x-python",
   "name": "python",
   "nbconvert_exporter": "python",
   "pygments_lexer": "ipython3",
   "version": "3.8.8"
  },
  "toc": {
   "base_numbering": 1,
   "nav_menu": {},
   "number_sections": true,
   "sideBar": true,
   "skip_h1_title": false,
   "title_cell": "Table of Contents",
   "title_sidebar": "Contents",
   "toc_cell": false,
   "toc_position": {},
   "toc_section_display": true,
   "toc_window_display": false
  },
  "varInspector": {
   "cols": {
    "lenName": 16,
    "lenType": 16,
    "lenVar": 40
   },
   "kernels_config": {
    "python": {
     "delete_cmd_postfix": "",
     "delete_cmd_prefix": "del ",
     "library": "var_list.py",
     "varRefreshCmd": "print(var_dic_list())"
    },
    "r": {
     "delete_cmd_postfix": ") ",
     "delete_cmd_prefix": "rm(",
     "library": "var_list.r",
     "varRefreshCmd": "cat(var_dic_list()) "
    }
   },
   "types_to_exclude": [
    "module",
    "function",
    "builtin_function_or_method",
    "instance",
    "_Feature"
   ],
   "window_display": false
  }
 },
 "nbformat": 4,
 "nbformat_minor": 4
}
