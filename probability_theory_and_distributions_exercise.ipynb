{
 "cells": [
  {
   "cell_type": "code",
   "execution_count": 2,
   "metadata": {
    "ExecuteTime": {
     "end_time": "2020-02-05T17:54:42.062131Z",
     "start_time": "2020-02-05T17:54:41.626763Z"
    }
   },
   "outputs": [],
   "source": [
    "# import numpy\n",
    "import numpy as np\n",
    "\n",
    "# import matplotlib.pyplot\n",
    "import matplotlib.pyplot as plt\n",
    "\n",
    "# import Counter\n",
    "from collections import Counter\n",
    "\n",
    "# use style 'fivethirtyeight' (optional)\n",
    "plt.style.use('fivethirtyeight')"
   ]
  },
  {
   "cell_type": "markdown",
   "metadata": {
    "ExecuteTime": {
     "end_time": "2020-02-05T17:54:42.113199Z",
     "start_time": "2020-02-05T17:54:42.101587Z"
    }
   },
   "source": [
    "#### Create function `perform_bernoulli_trial` with parameters n and p\n",
    "\n",
    "PARAMS:\n",
    "- n (int) - number of trials\n",
    "- p (float) - probability of success\n",
    "\n",
    "RETURNS:\n",
    "- n_success (int) - number of successes\n",
    "\n"
   ]
  },
  {
   "cell_type": "code",
   "execution_count": 3,
   "metadata": {},
   "outputs": [],
   "source": [
    "def perform_bernoulli_trial(n, p):\n",
    "    \n",
    "    # Initialize to zero n success which counts Bernoulli trial successes\n",
    "    n_success = 0\n",
    "    \n",
    "    # Execute trials ad store random number result\n",
    "    for i in range(n):\n",
    "        random_number = np.random.random()\n",
    "        \n",
    "        # If the random number is less than p, it's counted as a success\n",
    "        if random_number < p:\n",
    "            n_success += 1\n",
    "            \n",
    "    return n_success"
   ]
  },
  {
   "cell_type": "code",
   "execution_count": 4,
   "metadata": {},
   "outputs": [
    {
     "data": {
      "text/plain": [
       "3"
      ]
     },
     "execution_count": 4,
     "metadata": {},
     "output_type": "execute_result"
    }
   ],
   "source": [
    "perform_bernoulli_trial(10, 0.5)"
   ]
  },
  {
   "cell_type": "markdown",
   "metadata": {
    "ExecuteTime": {
     "end_time": "2020-02-05T17:54:42.610756Z",
     "start_time": "2020-02-05T17:54:42.602316Z"
    }
   },
   "source": [
    "#### Use function `perform_bernoulli_trial` with inputs n = 100, p = 0.5"
   ]
  },
  {
   "cell_type": "code",
   "execution_count": 5,
   "metadata": {},
   "outputs": [
    {
     "data": {
      "text/plain": [
       "41"
      ]
     },
     "execution_count": 5,
     "metadata": {},
     "output_type": "execute_result"
    }
   ],
   "source": [
    "perform_bernoulli_trial(100, 0.5)"
   ]
  },
  {
   "cell_type": "code",
   "execution_count": null,
   "metadata": {},
   "outputs": [],
   "source": []
  },
  {
   "cell_type": "markdown",
   "metadata": {
    "ExecuteTime": {
     "end_time": "2020-02-05T17:54:43.020097Z",
     "start_time": "2020-02-05T17:54:42.962800Z"
    }
   },
   "source": [
    "#### Call function _perform_bernoulli_trial_ 1000-times with same parameters as before and store the result in `successes_list`"
   ]
  },
  {
   "cell_type": "code",
   "execution_count": 6,
   "metadata": {},
   "outputs": [
    {
     "name": "stdout",
     "output_type": "stream",
     "text": [
      "[56, 52, 55, 57, 48, 48, 41, 51, 48, 49, 45, 46, 49, 44, 46, 41, 57, 49, 42, 52, 44, 51, 51, 57, 50, 48, 50, 56, 54, 52, 61, 51, 48, 52, 57, 45, 54, 47, 43, 51, 50, 50, 44, 43, 47, 52, 52, 53, 47, 54, 51, 45, 42, 43, 44, 53, 47, 48, 51, 59, 50, 51, 39, 44, 57, 49, 55, 52, 52, 52, 53, 50, 50, 49, 46, 47, 54, 52, 49, 53, 50, 51, 50, 38, 49, 46, 58, 53, 54, 51, 39, 49, 54, 53, 54, 55, 50, 47, 45, 52, 53, 40, 52, 46, 46, 46, 54, 43, 51, 50, 53, 50, 53, 44, 47, 58, 53, 45, 54, 51, 39, 46, 52, 41, 52, 49, 58, 48, 48, 45, 45, 40, 52, 62, 48, 56, 56, 51, 45, 43, 55, 50, 53, 44, 46, 46, 50, 51, 45, 53, 50, 50, 43, 49, 54, 53, 55, 48, 48, 53, 48, 57, 50, 51, 57, 51, 57, 52, 46, 47, 37, 43, 56, 57, 50, 50, 52, 59, 47, 52, 49, 49, 43, 57, 50, 46, 53, 47, 50, 53, 53, 57, 54, 49, 56, 47, 51, 43, 57, 46, 52, 56, 48, 52, 45, 46, 48, 59, 53, 57, 49, 64, 42, 55, 40, 53, 49, 43, 47, 52, 52, 47, 57, 51, 63, 47, 52, 48, 51, 49, 40, 51, 52, 44, 60, 41, 48, 53, 55, 53, 47, 41, 54, 56, 46, 52, 45, 54, 45, 47, 50, 61, 56, 48, 51, 48, 48, 53, 43, 45, 38, 56, 39, 46, 44, 49, 70, 52, 47, 54, 47, 46, 56, 51, 45, 39, 51, 50, 48, 55, 57, 48, 40, 50, 54, 47, 44, 40, 54, 47, 57, 55, 53, 52, 55, 34, 51, 52, 47, 48, 56, 44, 58, 45, 47, 54, 61, 50, 51, 39, 54, 55, 53, 45, 52, 45, 44, 51, 49, 63, 46, 64, 51, 53, 54, 58, 58, 50, 51, 55, 53, 48, 52, 48, 50, 36, 55, 51, 52, 54, 42, 51, 50, 51, 44, 56, 47, 53, 53, 43, 54, 56, 45, 48, 54, 58, 45, 54, 50, 45, 49, 44, 45, 53, 55, 52, 51, 49, 49, 52, 46, 51, 51, 45, 55, 53, 54, 55, 43, 45, 53, 50, 44, 48, 45, 49, 44, 49, 52, 56, 46, 45, 59, 54, 59, 44, 44, 50, 43, 46, 52, 44, 51, 51, 53, 51, 53, 54, 53, 47, 53, 47, 45, 56, 53, 45, 56, 56, 51, 53, 47, 44, 50, 52, 51, 55, 64, 53, 56, 45, 37, 47, 47, 56, 48, 51, 53, 48, 64, 50, 49, 51, 57, 58, 52, 50, 58, 43, 49, 55, 50, 55, 47, 48, 51, 47, 48, 48, 49, 55, 55, 57, 55, 60, 41, 42, 54, 46, 56, 53, 52, 54, 51, 52, 53, 56, 46, 49, 50, 55, 47, 36, 46, 51, 53, 49, 54, 57, 51, 52, 49, 42, 51, 52, 45, 47, 48, 60, 46, 53, 47, 51, 49, 44, 43, 57, 61, 48, 49, 44, 48, 54, 49, 51, 49, 42, 48, 53, 54, 41, 45, 57, 53, 57, 54, 43, 55, 48, 47, 44, 46, 50, 53, 46, 51, 44, 47, 44, 48, 50, 51, 51, 48, 49, 49, 48, 42, 47, 51, 49, 53, 57, 54, 51, 49, 48, 57, 51, 46, 51, 49, 48, 50, 56, 50, 51, 49, 52, 44, 55, 47, 54, 47, 49, 49, 48, 49, 47, 52, 47, 50, 47, 47, 44, 50, 56, 43, 50, 62, 46, 43, 46, 55, 41, 45, 54, 51, 47, 49, 55, 45, 53, 49, 50, 43, 47, 47, 49, 47, 45, 45, 44, 43, 54, 52, 51, 53, 56, 60, 45, 56, 60, 53, 38, 51, 63, 51, 43, 50, 52, 44, 48, 48, 47, 48, 45, 53, 44, 46, 58, 54, 46, 53, 43, 57, 38, 45, 52, 43, 50, 48, 43, 50, 49, 51, 55, 51, 49, 50, 43, 40, 60, 51, 51, 54, 47, 47, 55, 58, 56, 47, 47, 53, 41, 51, 52, 42, 47, 47, 56, 55, 50, 52, 48, 48, 43, 49, 45, 49, 42, 58, 52, 49, 55, 53, 49, 42, 55, 44, 43, 43, 49, 41, 57, 42, 48, 46, 49, 47, 51, 50, 52, 46, 50, 47, 49, 55, 49, 49, 55, 53, 48, 50, 51, 52, 58, 52, 46, 47, 47, 44, 49, 48, 41, 49, 51, 46, 38, 46, 51, 51, 53, 44, 57, 43, 50, 41, 50, 49, 50, 50, 45, 54, 51, 57, 49, 42, 54, 48, 55, 47, 53, 48, 44, 56, 47, 53, 49, 58, 53, 51, 57, 58, 56, 55, 52, 50, 58, 52, 62, 50, 52, 48, 44, 49, 53, 54, 44, 50, 48, 43, 52, 46, 53, 51, 47, 50, 53, 47, 50, 57, 42, 52, 54, 48, 48, 52, 49, 43, 45, 47, 45, 57, 52, 44, 52, 56, 40, 48, 50, 55, 55, 45, 47, 48, 50, 42, 43, 49, 48, 53, 52, 55, 56, 47, 46, 51, 55, 52, 46, 44, 54, 45, 52, 47, 57, 54, 44, 47, 61, 54, 43, 60, 47, 46, 45, 49, 51, 57, 57, 44, 48, 44, 52, 56, 54, 50, 51, 46, 47, 50, 50, 55, 50, 41, 41, 51, 50, 50, 48, 63, 48, 45, 44, 47, 44, 52, 51, 47, 47, 50, 55, 50, 48, 50, 53, 51, 46, 53, 56, 51, 45, 52, 49, 49, 47, 57, 42, 48, 50, 49, 51, 49, 57, 58, 43, 64, 49, 56, 51, 50, 52, 49, 53, 49, 57, 48, 50, 52, 44, 43, 53, 52, 54, 57, 48, 41, 41, 56, 52, 45, 47, 53, 53, 49, 56, 42, 62, 57, 42, 47, 45, 55, 39, 51, 43, 61, 53, 49, 56, 50, 51, 51, 49, 57, 49, 48, 54, 51, 44, 57, 51, 50, 38, 46, 45, 46, 53, 52, 52, 54, 51, 55, 45, 60, 45, 53, 50, 58, 57, 53, 62, 53, 47, 53, 49, 44, 45, 49, 51]\n"
     ]
    }
   ],
   "source": [
    "# Initialize list\n",
    "successes_list = []\n",
    "\n",
    "# Perform trial 1000 times\n",
    "for i in range(1000):\n",
    "    \n",
    "    # Calculate result and append to successes_list\n",
    "    successes_list.append(perform_bernoulli_trial(100, 0.5))\n",
    "\n",
    "print(successes_list)"
   ]
  },
  {
   "cell_type": "code",
   "execution_count": null,
   "metadata": {},
   "outputs": [],
   "source": []
  },
  {
   "cell_type": "markdown",
   "metadata": {
    "ExecuteTime": {
     "end_time": "2020-02-05T17:54:43.296477Z",
     "start_time": "2020-02-05T17:54:43.289959Z"
    }
   },
   "source": [
    "#### Count occurence of each number from `successes_list` using Counter and store the result in `count_occurence`\n",
    "\n",
    "You can find for more info about Counter [**here**](https://docs.python.org/2/library/collections.html#collections.Counter)."
   ]
  },
  {
   "cell_type": "code",
   "execution_count": 9,
   "metadata": {},
   "outputs": [
    {
     "name": "stdout",
     "output_type": "stream",
     "text": [
      "Counter({51: 89, 49: 78, 50: 78, 47: 75, 53: 75, 52: 72, 48: 68, 45: 52, 54: 49, 44: 46, 46: 45, 55: 44, 57: 42, 56: 38, 43: 37, 42: 18, 58: 18, 41: 16, 40: 8, 60: 8, 39: 7, 61: 6, 38: 6, 59: 5, 62: 5, 64: 5, 63: 4, 37: 2, 36: 2, 70: 1, 34: 1})\n"
     ]
    }
   ],
   "source": [
    "count_occurrence = Counter(successes_list)\n",
    "print(count_occurrence)"
   ]
  },
  {
   "cell_type": "code",
   "execution_count": null,
   "metadata": {},
   "outputs": [],
   "source": []
  },
  {
   "cell_type": "markdown",
   "metadata": {
    "ExecuteTime": {
     "end_time": "2020-02-05T17:54:43.571225Z",
     "start_time": "2020-02-05T17:54:43.568147Z"
    }
   },
   "source": [
    "#### Count the probability for each number from `count_occurence` and store the result in `probas`\n"
   ]
  },
  {
   "cell_type": "code",
   "execution_count": 17,
   "metadata": {},
   "outputs": [
    {
     "name": "stdout",
     "output_type": "stream",
     "text": [
      "[0.38, 0.72, 0.44, 0.42, 0.68, 0.16, 0.89, 0.78, 0.52, 0.45, 0.46, 0.18, 0.78, 0.49, 0.06, 0.75, 0.37, 0.75, 0.05, 0.07, 0.06, 0.18, 0.08, 0.05, 0.02, 0.05, 0.04, 0.08, 0.01, 0.01, 0.02]\n"
     ]
    }
   ],
   "source": [
    "# Initialize list for probabilities for each count\n",
    "probas = []\n",
    "\n",
    "# Count probability for each count \n",
    "for count in count_occurrence.values():\n",
    "    probas.append(count / 100)\n",
    "\n",
    "print(probas)"
   ]
  },
  {
   "cell_type": "code",
   "execution_count": null,
   "metadata": {},
   "outputs": [],
   "source": []
  },
  {
   "cell_type": "markdown",
   "metadata": {},
   "source": [
    "Below you have some information about how to do plots in Python. We will be covering all of this during the bootcamp. But you can find these basics here so we can visualize the distributions."
   ]
  },
  {
   "cell_type": "code",
   "execution_count": null,
   "metadata": {
    "ExecuteTime": {
     "end_time": "2020-02-05T17:54:44.056628Z",
     "start_time": "2020-02-05T17:54:43.850076Z"
    }
   },
   "outputs": [],
   "source": [
    "# plot distribution (PMF) of 'succes_list'\n",
    "plt.scatter(x=count_occurence.keys(), y=probas)\n",
    "plt.xlabel('number of succeess out of 100')\n",
    "plt.ylabel('probability')\n",
    "# Show the plot\n",
    "plt.show()"
   ]
  },
  {
   "cell_type": "markdown",
   "metadata": {
    "ExecuteTime": {
     "end_time": "2020-02-05T17:54:44.112264Z",
     "start_time": "2020-02-05T17:54:44.096570Z"
    }
   },
   "source": [
    "#### Generate 100000 numbers from uniform distribution with parameters a = 1, b = 6\n"
   ]
  },
  {
   "cell_type": "code",
   "execution_count": 28,
   "metadata": {},
   "outputs": [],
   "source": [
    "uniform = np.random.uniform(low=0, high=6, size = 100000)"
   ]
  },
  {
   "cell_type": "code",
   "execution_count": null,
   "metadata": {},
   "outputs": [],
   "source": []
  },
  {
   "cell_type": "code",
   "execution_count": 34,
   "metadata": {
    "ExecuteTime": {
     "end_time": "2020-02-05T17:54:44.515039Z",
     "start_time": "2020-02-05T17:54:44.330746Z"
    },
    "tags": []
   },
   "outputs": [
    {
     "data": {
      "image/png": "[encoded data removed]",
      "text/plain": [
       "<Figure size 432x288 with 1 Axes>"
      ]
     },
     "metadata": {},
     "output_type": "display_data"
    }
   ],
   "source": [
    "# plot histogram of uniform distribution with params density=True, bins=6\n",
    "plt.hist(uniform, density=True, bins=6)\n",
    "plt.ylabel('density')\n",
    "plt.xlabel('value')\n",
    "plt.show()"
   ]
  },
  {
   "cell_type": "markdown",
   "metadata": {
    "ExecuteTime": {
     "end_time": "2020-02-05T17:54:44.583762Z",
     "start_time": "2020-02-05T17:54:44.555162Z"
    }
   },
   "source": [
    "#### Check the mean of uniform data (using NumPy)"
   ]
  },
  {
   "cell_type": "code",
   "execution_count": 30,
   "metadata": {},
   "outputs": [
    {
     "data": {
      "text/plain": [
       "2.989765944979916"
      ]
     },
     "execution_count": 30,
     "metadata": {},
     "output_type": "execute_result"
    }
   ],
   "source": [
    "np.mean(uniform)"
   ]
  },
  {
   "cell_type": "code",
   "execution_count": null,
   "metadata": {},
   "outputs": [],
   "source": []
  },
  {
   "cell_type": "markdown",
   "metadata": {
    "ExecuteTime": {
     "end_time": "2020-02-05T17:54:44.758510Z",
     "start_time": "2020-02-05T17:54:44.752087Z"
    }
   },
   "source": [
    "#### Generate 100000 numbers from exponential distribution with parameter beta = 0.5\n",
    "\n",
    "The exponential distribution is sometimes parametrized in terms of the scale parameter **β = 1/λ**. We were reading about the **λ** in the previous reading."
   ]
  },
  {
   "cell_type": "code",
   "execution_count": 31,
   "metadata": {},
   "outputs": [],
   "source": [
    "exponential = np.random.exponential(scale = 0.5, size = 100000)"
   ]
  },
  {
   "cell_type": "code",
   "execution_count": null,
   "metadata": {},
   "outputs": [],
   "source": []
  },
  {
   "cell_type": "markdown",
   "metadata": {
    "ExecuteTime": {
     "end_time": "2020-02-05T17:54:45.134091Z",
     "start_time": "2020-02-05T17:54:44.956351Z"
    }
   },
   "source": [
    "#### Plot histogram of exponential distribution with params `density=True`, `bins=100`\n"
   ]
  },
  {
   "cell_type": "code",
   "execution_count": 32,
   "metadata": {},
   "outputs": [
    {
     "data": {
      "image/png": "[encoded data removed]",
      "text/plain": [
       "<Figure size 432x288 with 1 Axes>"
      ]
     },
     "metadata": {},
     "output_type": "display_data"
    }
   ],
   "source": [
    "# plot histogram of exponential distribution with params density=True, bins=100\n",
    "plt.hist(exponential, density=True, bins=100)\n",
    "plt.ylabel('density')\n",
    "plt.xlabel('value')\n",
    "plt.show()"
   ]
  },
  {
   "cell_type": "code",
   "execution_count": null,
   "metadata": {},
   "outputs": [],
   "source": []
  },
  {
   "cell_type": "markdown",
   "metadata": {
    "ExecuteTime": {
     "end_time": "2020-02-05T17:54:45.187080Z",
     "start_time": "2020-02-05T17:54:45.171406Z"
    }
   },
   "source": [
    "#### Check the mean of exponential data"
   ]
  },
  {
   "cell_type": "code",
   "execution_count": 33,
   "metadata": {},
   "outputs": [
    {
     "data": {
      "text/plain": [
       "0.5013998853148183"
      ]
     },
     "execution_count": 33,
     "metadata": {},
     "output_type": "execute_result"
    }
   ],
   "source": [
    "np.mean(exponential)"
   ]
  },
  {
   "cell_type": "code",
   "execution_count": null,
   "metadata": {},
   "outputs": [],
   "source": []
  }
 ],
 "metadata": {
  "kernelspec": {
   "display_name": "Python 3",
   "language": "python",
   "name": "python3"
  },
  "language_info": {
   "codemirror_mode": {
    "name": "ipython",
    "version": 3
   },
   "file_extension": ".py",
   "mimetype": "text/x-python",
   "name": "python",
   "nbconvert_exporter": "python",
   "pygments_lexer": "ipython3",
   "version": "3.8.8"
  },
  "toc": {
   "base_numbering": 1,
   "nav_menu": {},
   "number_sections": true,
   "sideBar": true,
   "skip_h1_title": false,
   "title_cell": "Table of Contents",
   "title_sidebar": "Contents",
   "toc_cell": false,
   "toc_position": {},
   "toc_section_display": true,
   "toc_window_display": false
  },
  "varInspector": {
   "cols": {
    "lenName": 16,
    "lenType": 16,
    "lenVar": 40
   },
   "kernels_config": {
    "python": {
     "delete_cmd_postfix": "",
     "delete_cmd_prefix": "del ",
     "library": "var_list.py",
     "varRefreshCmd": "print(var_dic_list())"
    },
    "r": {
     "delete_cmd_postfix": ") ",
     "delete_cmd_prefix": "rm(",
     "library": "var_list.r",
     "varRefreshCmd": "cat(var_dic_list()) "
    }
   },
   "types_to_exclude": [
    "module",
    "function",
    "builtin_function_or_method",
    "instance",
    "_Feature"
   ],
   "window_display": false
  }
 },
 "nbformat": 4,
 "nbformat_minor": 4
}
